{
 "cells": [
  {
   "cell_type": "code",
   "execution_count": 1,
   "metadata": {
    "collapsed": true
   },
   "outputs": [],
   "source": [
    "%matplotlib inline\n",
    "import matplotlib.pyplot as plt\n",
    "import matplotlib.mlab as mlab    \n",
    "import json\n",
    "import pandas as pd\n",
    "import numpy as np\n",
    "import seaborn as sns\n",
    "from scipy import stats"
   ]
  },
  {
   "cell_type": "code",
   "execution_count": 2,
   "metadata": {
    "collapsed": true
   },
   "outputs": [],
   "source": [
    "new_review = pd.read_csv('new_review.csv')\n",
    "new_user = pd.read_csv('new_user.csv')\n",
    "new_business = pd.read_csv('new_business.csv')"
   ]
  },
  {
   "cell_type": "code",
   "execution_count": 3,
   "metadata": {
    "collapsed": true
   },
   "outputs": [],
   "source": [
    "new=pd.merge(new_review,new_business,on='business_id') \n",
    "new_AZ=new[new.state=='AZ']\n",
    "new_NC=new[new.state=='NC']\n",
    "new_NV=new[new.state=='NV']"
   ]
  },
  {
   "cell_type": "code",
   "execution_count": null,
   "metadata": {
    "collapsed": true
   },
   "outputs": [],
   "source": []
  },
  {
   "cell_type": "code",
   "execution_count": 4,
   "metadata": {
    "collapsed": true
   },
   "outputs": [],
   "source": [
    "citynames=['AZ','NC','NV']"
   ]
  },
  {
   "cell_type": "code",
   "execution_count": 5,
   "metadata": {
    "collapsed": false
   },
   "outputs": [
    {
     "data": {
      "image/png": "[encoded data removed]",
      "text/plain": [
       "<matplotlib.figure.Figure at 0x12f4b3f0cf8>"
      ]
     },
     "metadata": {},
     "output_type": "display_data"
    }
   ],
   "source": [
    "fig, axs = plt.subplots(1,3, figsize=(12, 3), facecolor='w', edgecolor='b')\n",
    "fig.subplots_adjust(hspace = .3, wspace=.2)\n",
    "\n",
    "axs = axs.ravel()\n",
    "   \n",
    "data = [new_AZ.stars_x]\n",
    "axs[0].hist(data,9,normed =1)\n",
    "\n",
    "data = [new_NC.stars_x]\n",
    "axs[1].hist(data,9,normed =1)\n",
    "\n",
    "data = [new_NV.stars_x]\n",
    "axs[2].hist(data,9,normed =1)\n",
    "\n",
    "for i in range(len(citynames)):\n",
    "    name = citynames[i]\n",
    "    axs[i].set_title(name)"
   ]
  },
  {
   "cell_type": "code",
   "execution_count": 8,
   "metadata": {
    "collapsed": false
   },
   "outputs": [],
   "source": [
    "Business = pd.read_csv('new_business.csv')\n",
    "AZ_df = Business[Business.state=='AZ']\n",
    "NC_df = Business[Business.state=='NC']\n",
    "NV_df = Business[Business.state=='NV']"
   ]
  },
  {
   "cell_type": "code",
   "execution_count": null,
   "metadata": {
    "collapsed": false
   },
   "outputs": [],
   "source": []
  },
  {
   "cell_type": "code",
   "execution_count": 19,
   "metadata": {
    "collapsed": false
   },
   "outputs": [
    {
     "name": "stdout",
     "output_type": "stream",
     "text": [
      "AZ \n",
      "mean: 3.71043835616 \n",
      "standard deviation: 0.997134565688 \n",
      "skewnees: -0.537982117314 \n",
      "kurtosis: 2.64929869571\n"
     ]
    }
   ],
   "source": [
    "for i in range(len(citynames)):\n",
    "    name = citynames[i]\n",
    "    axs[i].set_title(name)\n",
    "\n",
    "def skewness(data):\n",
    "    a=(data-data.mean())**3\n",
    "    E3=a.mean()\n",
    "    sigma3=data.std()**3\n",
    "    return E3/sigma3\n",
    "\n",
    "def kurtosis(data):\n",
    "    a=(data-data.mean())**4\n",
    "    E4=a.mean()\n",
    "    sigma4=data.std()**4\n",
    "    return E4/sigma4\n",
    "\n",
    "mu, std =stats.norm.fit(AZ_df.stars)    \n",
    "skewnees=skewness(AZ_df.stars.values)\n",
    "kurtosis=kurtosis(AZ_df.stars.values)\n",
    "\n",
    "print (\"AZ\",\"\\n\"\n",
    "        \"mean:\",mu,\"\\n\"\n",
    "       \"standard deviation:\",std,\"\\n\"\n",
    "        \"skewnees:\", skewnees,\"\\n\"\n",
    "       \"kurtosis:\", kurtosis)"
   ]
  },
  {
   "cell_type": "code",
   "execution_count": 17,
   "metadata": {
    "collapsed": false
   },
   "outputs": [
    {
     "name": "stdout",
     "output_type": "stream",
     "text": [
      "NC \n",
      "mean: 3.58566203365 \n",
      "standard deviation: 0.902860193786 \n",
      "skewnees: -0.468999945479 \n",
      "kurtosis: 2.8757053982\n"
     ]
    }
   ],
   "source": [
    "for i in range(len(citynames)):\n",
    "    name = citynames[i]\n",
    "    axs[i].set_title(name)\n",
    "\n",
    "def skewness(data):\n",
    "    a=(data-data.mean())**3\n",
    "    E3=a.mean()\n",
    "    sigma3=data.std()**3\n",
    "    return E3/sigma3\n",
    "\n",
    "def kurtosis(data):\n",
    "    a=(data-data.mean())**4\n",
    "    E4=a.mean()\n",
    "    sigma4=data.std()**4\n",
    "    return E4/sigma4\n",
    "\n",
    "mu, std =stats.norm.fit(NC_df.stars)    \n",
    "skewnees=skewness(NC_df.stars.values)\n",
    "kurtosis=kurtosis(NC_df.stars.values)\n",
    "\n",
    "print (\"NC\",\"\\n\"\n",
    "        \"mean:\",mu,\"\\n\"\n",
    "       \"standard deviation:\",std,\"\\n\"\n",
    "        \"skewnees:\", skewnees,\"\\n\"\n",
    "       \"kurtosis:\", kurtosis)"
   ]
  },
  {
   "cell_type": "code",
   "execution_count": 18,
   "metadata": {
    "collapsed": false
   },
   "outputs": [
    {
     "name": "stdout",
     "output_type": "stream",
     "text": [
      "NV \n",
      "mean: 3.69098384977 \n",
      "standard deviation: 0.973663892371 \n",
      "skewnees: -0.526876552677 \n",
      "kurtosis: 2.70357260847\n"
     ]
    }
   ],
   "source": [
    "for i in range(len(citynames)):\n",
    "    name = citynames[i]\n",
    "    axs[i].set_title(name)\n",
    "\n",
    "def skewness(data):\n",
    "    a=(data-data.mean())**3\n",
    "    E3=a.mean()\n",
    "    sigma3=data.std()**3\n",
    "    return E3/sigma3\n",
    "\n",
    "def kurtosis(data):\n",
    "    a=(data-data.mean())**4\n",
    "    E4=a.mean()\n",
    "    sigma4=data.std()**4\n",
    "    return E4/sigma4\n",
    "\n",
    "mu, std =stats.norm.fit(NV_df.stars)    \n",
    "skewnees=skewness(NV_df.stars.values)\n",
    "kurtosis=kurtosis(NV_df.stars.values)\n",
    "\n",
    "print (\"NV\",\"\\n\"\n",
    "        \"mean:\",mu,\"\\n\"\n",
    "       \"standard deviation:\",std,\"\\n\"\n",
    "        \"skewnees:\", skewnees,\"\\n\"\n",
    "       \"kurtosis:\", kurtosis)"
   ]
  },
  {
   "cell_type": "code",
   "execution_count": null,
   "metadata": {
    "collapsed": true
   },
   "outputs": [],
   "source": []
  }
 ],
 "metadata": {
  "kernelspec": {
   "display_name": "Python 3",
   "language": "python",
   "name": "python3"
  },
  "language_info": {
   "codemirror_mode": {
    "name": "ipython",
    "version": 3
   },
   "file_extension": ".py",
   "mimetype": "text/x-python",
   "name": "python",
   "nbconvert_exporter": "python",
   "pygments_lexer": "ipython3",
   "version": "3.6.0"
  }
 },
 "nbformat": 4,
 "nbformat_minor": 2
}
