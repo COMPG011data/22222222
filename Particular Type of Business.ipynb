{
 "cells": [
  {
   "cell_type": "code",
   "execution_count": null,
   "metadata": {
    "collapsed": true
   },
   "outputs": [],
   "source": [
    "new=[]\n",
    "for index, columns in business.iterrows():\n",
    "    new_categories = str(columns['categories']).lower() \n",
    "    Id = columns['business_id']\n",
    "    City = columns['city']\n",
    "    Stars = columns['stars']\n",
    "    Review = columns['review_count']\n",
    "    if \"fast food\" in new_categories:\n",
    "         new.append({\"ID\":Id,\"New\":new_categories,\"City\":City,\"Stars\":Stars,\"Review\":Review})\n",
    "Type=pd.DataFrame(new)        \n",
    "Type"
   ]
  },
  {
   "cell_type": "code",
   "execution_count": null,
   "metadata": {
    "collapsed": true
   },
   "outputs": [],
   "source": []
  },
  {
   "cell_type": "code",
   "execution_count": null,
   "metadata": {
    "collapsed": true
   },
   "outputs": [],
   "source": []
  }
 ],
 "metadata": {
  "anaconda-cloud": {},
  "kernelspec": {
   "display_name": "Python [default]",
   "language": "python",
   "name": "python3"
  },
  "language_info": {
   "codemirror_mode": {
    "name": "ipython",
    "version": 3
   },
   "file_extension": ".py",
   "mimetype": "text/x-python",
   "name": "python",
   "nbconvert_exporter": "python",
   "pygments_lexer": "ipython3",
   "version": "3.5.2"
  }
 },
 "nbformat": 4,
 "nbformat_minor": 1
}
