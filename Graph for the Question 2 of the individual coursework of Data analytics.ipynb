{
 "cells": [
  {
   "cell_type": "code",
   "execution_count": 3,
   "metadata": {
    "collapsed": true
   },
   "outputs": [],
   "source": [
    "import matplotlib.pyplot as plt\n",
    "from numpy.random import randn\n",
    "from pandas import Series\n",
    "import numpy as np\n",
    "import pandas as pd"
   ]
  },
  {
   "cell_type": "code",
   "execution_count": 4,
   "metadata": {
    "collapsed": false
   },
   "outputs": [],
   "source": [
    "df=pd.read_csv('C:/Users/yifeichongtian/Desktop/UCL course material/data analytics/Yelp dataset/Yelp CSV dataset/new yelp dataset/business_dataset.csv')"
   ]
  },
  {
   "cell_type": "code",
   "execution_count": 5,
   "metadata": {
    "collapsed": false
   },
   "outputs": [
    {
     "name": "stdout",
     "output_type": "stream",
     "text": [
      "<class 'pandas.core.frame.DataFrame'>\n",
      "RangeIndex: 85901 entries, 0 to 85900\n",
      "Data columns (total 3 columns):\n",
      "city     85896 non-null object\n",
      "stars    85898 non-null float64\n",
      "type     85899 non-null object\n",
      "dtypes: float64(1), object(2)\n",
      "memory usage: 2.0+ MB\n"
     ]
    }
   ],
   "source": [
    "df.info()"
   ]
  },
  {
   "cell_type": "code",
   "execution_count": 7,
   "metadata": {
    "collapsed": false
   },
   "outputs": [
    {
     "data": {
      "text/plain": [
       "Las Vegas              19327\n",
       "Phoenix                11852\n",
       "Charlotte               5695\n",
       "Scottsdale              5638\n",
       "Montréal                4371\n",
       "Mesa                    3638\n",
       "Pittsburgh              3628\n",
       "Edinburgh               3360\n",
       "Henderson               3145\n",
       "Tempe                   3043\n",
       "Chandler                2702\n",
       "Madison                 2277\n",
       "Glendale                2048\n",
       "Gilbert                 1941\n",
       "Peoria                  1081\n",
       "North Las Vegas          952\n",
       "Karlsruhe                906\n",
       "Surprise                 681\n",
       "Goodyear                 507\n",
       "Champaign                505\n",
       "Avondale                 427\n",
       "Matthews                 399\n",
       "Queen Creek              383\n",
       "Waterloo                 297\n",
       "Fort Mill                287\n",
       "Urbana                   285\n",
       "Cave Creek               266\n",
       "Middleton                222\n",
       "Laval                    222\n",
       "Pineville                210\n",
       "                       ...  \n",
       "Payson                     1\n",
       "Le Sud-Ouest               1\n",
       "Montral                    1\n",
       "Blue Diamond               1\n",
       "Mesa AZ                    1\n",
       "St Leonard                 1\n",
       "Edinburgh City of          1\n",
       "University                 1\n",
       "Deux-Montagnes             1\n",
       "Bloomfield                 1\n",
       "Side Slopes                1\n",
       "Scottsdale AZ              1\n",
       "Chandler-Gilbert           1\n",
       "Rheinstetten-Mörsch        1\n",
       "Chomedey, Laval            1\n",
       "Gilbert, AZ                1\n",
       "Whitney                    1\n",
       "Central                    1\n",
       "Central Henderson          1\n",
       "PITTSBURGH                 1\n",
       "Wittmann                   1\n",
       "Water of Leith             1\n",
       "Mattews                    1\n",
       "North Carolina             1\n",
       "Currie                     1\n",
       "N W Las Vegas              1\n",
       "Saint-Léonard              1\n",
       "Los Angeles                1\n",
       "Green Valley               1\n",
       "La Paz                     1\n",
       "Name: city, dtype: int64"
      ]
     },
     "execution_count": 7,
     "metadata": {},
     "output_type": "execute_result"
    }
   ],
   "source": [
    "df.city.value_counts()"
   ]
  },
  {
   "cell_type": "code",
   "execution_count": 21,
   "metadata": {
    "collapsed": false
   },
   "outputs": [
    {
     "data": {
      "text/plain": [
       "4.0    638\n",
       "5.0    623\n",
       "3.5    608\n",
       "4.5    505\n",
       "3.0    481\n",
       "2.5    390\n",
       "2.0    227\n",
       "1.5    104\n",
       "1.0     62\n",
       "Name: stars, dtype: int64"
      ]
     },
     "execution_count": 21,
     "metadata": {},
     "output_type": "execute_result"
    }
   ],
   "source": [
    "df_Mesa1.stars.value_counts()"
   ]
  },
  {
   "cell_type": "code",
   "execution_count": 26,
   "metadata": {
    "collapsed": false
   },
   "outputs": [
    {
     "data": {
      "image/png": "[encoded data removed]",
      "text/plain": [
       "<matplotlib.figure.Figure at 0xbbdbea6e10>"
      ]
     },
     "metadata": {},
     "output_type": "display_data"
    }
   ],
   "source": [
    "df_Mesa=df[df.city=='Mesa']\n",
    "df_Mesa1=df_Mesa.drop(['city','type'], axis=1)\n",
    "\n",
    "fig=plt.figure(figsize=(9,6))\n",
    "plt.hist(df_Mesa1.stars, bins=9, alpha=0.45)\n",
    "plt.title('Histogram for Mesa')\n",
    "plt.xlim(0,6)\n",
    "plt.ylim(0,800)\n",
    "plt.show()"
   ]
  },
  {
   "cell_type": "code",
   "execution_count": 29,
   "metadata": {
    "collapsed": false
   },
   "outputs": [
    {
     "name": "stdout",
     "output_type": "stream",
     "text": [
      "Standard deviation\n",
      "stars    1.02755\n",
      "dtype: float64 stars    0.856377\n",
      "dtype: float64 stars    0.660199\n",
      "dtype: float64 stars    0.962234\n",
      "dtype: float64 stars    0.99002\n",
      "dtype: float64\n",
      "\n",
      "Variance\n",
      "stars    1.05586\n",
      "dtype: float64 stars    0.733382\n",
      "dtype: float64 stars    0.435863\n",
      "dtype: float64 stars    0.925895\n",
      "dtype: float64 stars    0.980139\n",
      "dtype: float64\n"
     ]
    }
   ],
   "source": [
    "def square(x):\n",
    "    return x*x\n",
    "\n",
    "# Standard deviation\n",
    "\n",
    "n = df_Mesa1-np.mean(df_Mesa1)\n",
    "a0 = np.sqrt(square(n).sum()/len(df_Mesa))\n",
    "\n",
    "df_Pittsburgh=df[df.city=='Pittsburgh']\n",
    "df_Pittsburgh1=df_Pittsburgh.drop(['city','type'], axis=1)\n",
    "n1 = df_Pittsburgh1-np.mean(df_Pittsburgh1)\n",
    "a1 = np.sqrt(square(n1).sum()/len(df_Pittsburgh))\n",
    "\n",
    "df_Edinburgh=df[df.city=='Edinburgh']\n",
    "df_Edinburgh1=df_Edinburgh.drop(['city','type'], axis=1)\n",
    "n2 = df_Edinburgh1-np.mean(df_Edinburgh1)\n",
    "a2 = np.sqrt(square(n2).sum()/len(df_Edinburgh))\n",
    "\n",
    "df_Henderson=df[df.city=='Henderson']\n",
    "df_Henderson1=df_Henderson.drop(['city','type'], axis=1)\n",
    "n3 = df_Henderson1-np.mean(df_Henderson1)\n",
    "a3 = np.sqrt(square(n3).sum()/len(df_Henderson))\n",
    "\n",
    "df_Tempe=df[df.city=='Tempe']\n",
    "df_Tempe1=df_Tempe.drop(['city','type'], axis=1)\n",
    "n4 = df_Tempe1-np.mean(df_Tempe1)\n",
    "a4 = np.sqrt(square(n4).sum()/len(df_Tempe))\n",
    "\n",
    "# variance\n",
    "\n",
    "a00 = square(n).sum()/len(df_Mesa)\n",
    "a01 = square(n1).sum()/len(df_Pittsburgh)\n",
    "a02 = square(n2).sum()/len(df_Edinburgh)\n",
    "a03 = square(n3).sum()/len(df_Henderson)\n",
    "a04 = square(n4).sum()/len(df_Tempe)\n",
    "\n",
    "print ('Standard deviation')\n",
    "print (a0,a1,a2,a3,a4)\n",
    "print ()\n",
    "print ('Variance')\n",
    "print (a00,a01,a02,a03,a04)"
   ]
  },
  {
   "cell_type": "code",
   "execution_count": 28,
   "metadata": {
    "collapsed": false
   },
   "outputs": [
    {
     "data": {
      "image/png": "[encoded data removed]",
      "text/plain": [
       "<matplotlib.figure.Figure at 0xbbdbebdcc0>"
      ]
     },
     "metadata": {},
     "output_type": "display_data"
    },
    {
     "data": {
      "text/plain": [
       "<matplotlib.figure.Figure at 0xbbdbe3a518>"
      ]
     },
     "metadata": {},
     "output_type": "display_data"
    },
    {
     "data": {
      "image/png": "[encoded data removed]",
      "text/plain": [
       "<matplotlib.figure.Figure at 0xbbdbdf1198>"
      ]
     },
     "metadata": {},
     "output_type": "display_data"
    },
    {
     "data": {
      "text/plain": [
       "<matplotlib.figure.Figure at 0xbbddb21898>"
      ]
     },
     "metadata": {},
     "output_type": "display_data"
    },
    {
     "data": {
      "image/png": "[encoded data removed]",
      "text/plain": [
       "<matplotlib.figure.Figure at 0xbbddb24320>"
      ]
     },
     "metadata": {},
     "output_type": "display_data"
    }
   ],
   "source": [
    "fig=plt.figure(figsize=(10,8))\n",
    "\n",
    "x_axis_points = [0,1,2,3,4]\n",
    "x_axis_cities = ['Mesa','Pittsburgh','Edinburgh','Henderson','Tempe']\n",
    "plt.bar(left = (0,1,2,3,4), height = (3.616685,3.532787,3.821131,3.73593,3.70161) ,width = 0.2, align='center',alpha = 0.45)\n",
    "plt.xlim(-1)\n",
    "plt.ylim(0,6,0.00001)\n",
    "plt.xticks(x_axis_points, x_axis_cities)\n",
    "plt.title('mean')\n",
    "\n",
    "plt.figure()\n",
    "\n",
    "fig=plt.figure(figsize=(9,6))\n",
    "plt.bar(left = (0,1,2,3,4), height = (1.02755,0.97199,0.660199,0.962234,0.99002),width = 0.2, align='center',alpha = 0.45)\n",
    "plt.xlim(-1)\n",
    "plt.ylim(0,1.5,0.001)\n",
    "plt.xticks(x_axis_points, x_axis_cities)\n",
    "plt.title('Standard deviation')\n",
    "\n",
    "plt.figure()\n",
    "\n",
    "fig=plt.figure(figsize=(9,6))\n",
    "plt.bar(left = (0,1,2,3,4), height = (1.05586,0.944765,0.435863,0.925895,0.980139),width = 0.2, align = 'center',alpha = 0.45)\n",
    "plt.xlim(-1)\n",
    "plt.ylim(0,1.5,0.001)\n",
    "plt.xticks(x_axis_points, x_axis_cities)\n",
    "plt.title('Variance')\n",
    "plt.show()"
   ]
  }
 ],
 "metadata": {
  "anaconda-cloud": {},
  "kernelspec": {
   "display_name": "Python [conda root]",
   "language": "python",
   "name": "conda-root-py"
  },
  "language_info": {
   "codemirror_mode": {
    "name": "ipython",
    "version": 3
   },
   "file_extension": ".py",
   "mimetype": "text/x-python",
   "name": "python",
   "nbconvert_exporter": "python",
   "pygments_lexer": "ipython3",
   "version": "3.5.2"
  }
 },
 "nbformat": 4,
 "nbformat_minor": 1
}
