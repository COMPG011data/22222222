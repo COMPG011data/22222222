{
 "cells": [
  {
   "cell_type": "code",
   "execution_count": null,
   "metadata": {
    "collapsed": true
   },
   "outputs": [],
   "source": [
    "num_bins = 9   \n",
    "# the histogram of the data    \n",
    "n, bins, patches = plt.hist(Type[Type.State=='NV'].Stars, num_bins, normed=1, facecolor='blue', alpha=0.5)    \n",
    "  \n",
    "# add a 'best fit' line \n",
    "mu=Type[Type.State=='NV'].Stars.mean()\n",
    "sigma=Type[Type.State=='NV'].Stars.std()\n",
    "y = mlab.normpdf(bins, mu, sigma)    \n",
    "plt.plot(bins, y, 'r')    \n",
    "plt.xlabel('Rating')    \n",
    "plt.ylabel('Probability')    \n",
    "plt.title('NV')    \n",
    "    \n",
    "# Tweak spacing to prevent clipping of ylabel    \n",
    "plt.subplots_adjust(left=0.15)    \n",
    "plt.show() \n",
    "\n",
    "def skewness(data):\n",
    "    a=(data-data.mean())**3\n",
    "    E3=a.mean()\n",
    "    sigma3=data.std()**3\n",
    "    return E3/sigma3\n",
    "\n",
    "def kurtosis(data):\n",
    "    a=(data-data.mean())**4\n",
    "    E4=a.mean()\n",
    "    sigma4=data.std()**4\n",
    "    return E4/sigma4\n",
    "    \n",
    "skewnees=skewness(Type[Type.State=='NV'].Stars.values)\n",
    "kurtosis=kurtosis(Type[Type.State=='NV'].Stars.values)\n",
    "\n",
    "print (\"mean:\",mu,\"\\n\"\n",
    "       \"standard deviation:\",sigma,\"\\n\"\n",
    "        \"skewnees:\", skewnees,\"\\n\"\n",
    "       \"kurtosis:\", kurtosis)"
   ]
  }
 ],
 "metadata": {
  "anaconda-cloud": {},
  "kernelspec": {
   "display_name": "Python [default]",
   "language": "python",
   "name": "python3"
  },
  "language_info": {
   "codemirror_mode": {
    "name": "ipython",
    "version": 3
   },
   "file_extension": ".py",
   "mimetype": "text/x-python",
   "name": "python",
   "nbconvert_exporter": "python",
   "pygments_lexer": "ipython3",
   "version": "3.5.2"
  }
 },
 "nbformat": 4,
 "nbformat_minor": 1
}
