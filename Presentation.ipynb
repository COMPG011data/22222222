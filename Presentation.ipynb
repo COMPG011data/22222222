{
 "cells": [
  {
   "cell_type": "code",
   "execution_count": 3,
   "metadata": {
    "collapsed": false
   },
   "outputs": [],
   "source": [
    "%matplotlib inline\n",
    "import matplotlib.pyplot as plt\n",
    "import matplotlib.mlab as mlab    \n",
    "import json\n",
    "import pandas as pd\n",
    "import numpy as np\n",
    "import seaborn as sns\n",
    "sns.set_style('whitegrid')\n",
    "from scipy import stats\n",
    "import powerlaw\n",
    "\n",
    "# machine learning\n",
    "from sklearn.linear_model import LogisticRegression\n",
    "from sklearn.svm import SVC, LinearSVC\n",
    "from sklearn.ensemble import RandomForestClassifier, AdaBoostClassifier, GradientBoostingClassifier, ExtraTreesClassifier\n",
    "from sklearn.neighbors import KNeighborsClassifier\n",
    "from sklearn.naive_bayes import GaussianNB\n",
    "from sklearn.linear_model import Perceptron\n",
    "from sklearn.linear_model import SGDClassifier\n",
    "from sklearn.tree import DecisionTreeClassifier\n",
    "from sklearn.svm import SVC\n",
    "from sklearn.cross_validation import KFold;\n"
   ]
  },
  {
   "cell_type": "code",
   "execution_count": 4,
   "metadata": {
    "collapsed": false
   },
   "outputs": [
    {
     "name": "stderr",
     "output_type": "stream",
     "text": [
      "/Users/Wendy/anaconda/lib/python3.5/site-packages/IPython/core/interactiveshell.py:2717: DtypeWarning: Columns (1,4,7,17,26,29,49,60,62,79,86,94) have mixed types. Specify dtype option on import or set low_memory=False.\n",
      "  interactivity=interactivity, compiler=compiler, result=result)\n"
     ]
    }
   ],
   "source": [
    "business=pd.read_csv('yelp_academic_dataset_business.csv')"
   ]
  },
  {
   "cell_type": "code",
   "execution_count": 5,
   "metadata": {
    "collapsed": true
   },
   "outputs": [],
   "source": [
    "new=[]\n",
    "for index, columns in business.iterrows():\n",
    "    new_categories = str(columns['categories']).lower()\n",
    "    Id = columns['business_id']\n",
    "    City = columns['city']\n",
    "    Stars = columns['stars']\n",
    "    State = columns['state']\n",
    "    Review = columns['review_count']\n",
    "    \n",
    "    if \"restaurant\" in new_categories:\n",
    "         new.append({\"categories\":new_categories,\"business_id\":Id,\"state\":State,\"city\":City,\"stars\":Stars})\n",
    "        "
   ]
  },
  {
   "cell_type": "code",
   "execution_count": 6,
   "metadata": {
    "collapsed": false
   },
   "outputs": [],
   "source": [
    "business_restaurant=pd.DataFrame(new)"
   ]
  },
  {
   "cell_type": "code",
   "execution_count": 7,
   "metadata": {
    "collapsed": false
   },
   "outputs": [
    {
     "data": {
      "text/html": [
       "<div>\n",
       "<table border=\"1\" class=\"dataframe\">\n",
       "  <thead>\n",
       "    <tr style=\"text-align: right;\">\n",
       "      <th></th>\n",
       "      <th>business_id</th>\n",
       "      <th>attributes.Noise Level</th>\n",
       "      <th>attributes.Wi-Fi</th>\n",
       "      <th>attributes.Price Range</th>\n",
       "      <th>attributes.Good for Kids</th>\n",
       "      <th>attributes.Waiter Service</th>\n",
       "      <th>attributes.Take-out</th>\n",
       "      <th>attributes.Outdoor Seating</th>\n",
       "      <th>attributes.Parking.lot</th>\n",
       "      <th>attributes.Parking.street</th>\n",
       "      <th>attributes.Parking.garage</th>\n",
       "      <th>attributes.Parking.valet</th>\n",
       "      <th>attributes.Parking.validated</th>\n",
       "      <th>attributes.Good For.dessert</th>\n",
       "      <th>attributes.Good For.latenight</th>\n",
       "      <th>attributes.Good For.brunch</th>\n",
       "      <th>attributes.Good For.lunch</th>\n",
       "      <th>attributes.Good For.dinner</th>\n",
       "      <th>attributes.Good For.breakfast</th>\n",
       "    </tr>\n",
       "  </thead>\n",
       "  <tbody>\n",
       "    <tr>\n",
       "      <th>0</th>\n",
       "      <td>5UmKMjUEUNdYWqANhGckJw</td>\n",
       "      <td>average</td>\n",
       "      <td>NaN</td>\n",
       "      <td>1.0</td>\n",
       "      <td>True</td>\n",
       "      <td>False</td>\n",
       "      <td>True</td>\n",
       "      <td>False</td>\n",
       "      <td>False</td>\n",
       "      <td>False</td>\n",
       "      <td>False</td>\n",
       "      <td>False</td>\n",
       "      <td>False</td>\n",
       "      <td>False</td>\n",
       "      <td>False</td>\n",
       "      <td>False</td>\n",
       "      <td>False</td>\n",
       "      <td>False</td>\n",
       "      <td>False</td>\n",
       "    </tr>\n",
       "    <tr>\n",
       "      <th>1</th>\n",
       "      <td>UsFtqoBl7naz8AVUBZMjQQ</td>\n",
       "      <td>NaN</td>\n",
       "      <td>NaN</td>\n",
       "      <td>1.0</td>\n",
       "      <td>NaN</td>\n",
       "      <td>NaN</td>\n",
       "      <td>NaN</td>\n",
       "      <td>False</td>\n",
       "      <td>NaN</td>\n",
       "      <td>NaN</td>\n",
       "      <td>NaN</td>\n",
       "      <td>NaN</td>\n",
       "      <td>NaN</td>\n",
       "      <td>NaN</td>\n",
       "      <td>NaN</td>\n",
       "      <td>NaN</td>\n",
       "      <td>NaN</td>\n",
       "      <td>NaN</td>\n",
       "      <td>NaN</td>\n",
       "    </tr>\n",
       "    <tr>\n",
       "      <th>2</th>\n",
       "      <td>cE27W9VPgO88Qxe4ol6y_g</td>\n",
       "      <td>NaN</td>\n",
       "      <td>NaN</td>\n",
       "      <td>NaN</td>\n",
       "      <td>True</td>\n",
       "      <td>NaN</td>\n",
       "      <td>NaN</td>\n",
       "      <td>NaN</td>\n",
       "      <td>NaN</td>\n",
       "      <td>NaN</td>\n",
       "      <td>NaN</td>\n",
       "      <td>NaN</td>\n",
       "      <td>NaN</td>\n",
       "      <td>NaN</td>\n",
       "      <td>NaN</td>\n",
       "      <td>NaN</td>\n",
       "      <td>NaN</td>\n",
       "      <td>NaN</td>\n",
       "      <td>NaN</td>\n",
       "    </tr>\n",
       "    <tr>\n",
       "      <th>3</th>\n",
       "      <td>mVHrayjG3uZ_RLHkLj-AMg</td>\n",
       "      <td>average</td>\n",
       "      <td>no</td>\n",
       "      <td>2.0</td>\n",
       "      <td>True</td>\n",
       "      <td>True</td>\n",
       "      <td>True</td>\n",
       "      <td>False</td>\n",
       "      <td>False</td>\n",
       "      <td>False</td>\n",
       "      <td>False</td>\n",
       "      <td>False</td>\n",
       "      <td>False</td>\n",
       "      <td>False</td>\n",
       "      <td>False</td>\n",
       "      <td>False</td>\n",
       "      <td>True</td>\n",
       "      <td>False</td>\n",
       "      <td>False</td>\n",
       "    </tr>\n",
       "    <tr>\n",
       "      <th>4</th>\n",
       "      <td>mYSpR_SLPgUVymYOvTQd_Q</td>\n",
       "      <td>NaN</td>\n",
       "      <td>NaN</td>\n",
       "      <td>NaN</td>\n",
       "      <td>True</td>\n",
       "      <td>NaN</td>\n",
       "      <td>NaN</td>\n",
       "      <td>NaN</td>\n",
       "      <td>False</td>\n",
       "      <td>False</td>\n",
       "      <td>False</td>\n",
       "      <td>False</td>\n",
       "      <td>False</td>\n",
       "      <td>NaN</td>\n",
       "      <td>NaN</td>\n",
       "      <td>NaN</td>\n",
       "      <td>NaN</td>\n",
       "      <td>NaN</td>\n",
       "      <td>NaN</td>\n",
       "    </tr>\n",
       "  </tbody>\n",
       "</table>\n",
       "</div>"
      ],
      "text/plain": [
       "              business_id attributes.Noise Level attributes.Wi-Fi  \\\n",
       "0  5UmKMjUEUNdYWqANhGckJw                average              NaN   \n",
       "1  UsFtqoBl7naz8AVUBZMjQQ                    NaN              NaN   \n",
       "2  cE27W9VPgO88Qxe4ol6y_g                    NaN              NaN   \n",
       "3  mVHrayjG3uZ_RLHkLj-AMg                average               no   \n",
       "4  mYSpR_SLPgUVymYOvTQd_Q                    NaN              NaN   \n",
       "\n",
       "   attributes.Price Range attributes.Good for Kids attributes.Waiter Service  \\\n",
       "0                     1.0                     True                     False   \n",
       "1                     1.0                      NaN                       NaN   \n",
       "2                     NaN                     True                       NaN   \n",
       "3                     2.0                     True                      True   \n",
       "4                     NaN                     True                       NaN   \n",
       "\n",
       "  attributes.Take-out attributes.Outdoor Seating attributes.Parking.lot  \\\n",
       "0                True                      False                  False   \n",
       "1                 NaN                      False                    NaN   \n",
       "2                 NaN                        NaN                    NaN   \n",
       "3                True                      False                  False   \n",
       "4                 NaN                        NaN                  False   \n",
       "\n",
       "  attributes.Parking.street attributes.Parking.garage  \\\n",
       "0                     False                     False   \n",
       "1                       NaN                       NaN   \n",
       "2                       NaN                       NaN   \n",
       "3                     False                     False   \n",
       "4                     False                     False   \n",
       "\n",
       "  attributes.Parking.valet attributes.Parking.validated  \\\n",
       "0                    False                        False   \n",
       "1                      NaN                          NaN   \n",
       "2                      NaN                          NaN   \n",
       "3                    False                        False   \n",
       "4                    False                        False   \n",
       "\n",
       "  attributes.Good For.dessert attributes.Good For.latenight  \\\n",
       "0                       False                         False   \n",
       "1                         NaN                           NaN   \n",
       "2                         NaN                           NaN   \n",
       "3                       False                         False   \n",
       "4                         NaN                           NaN   \n",
       "\n",
       "  attributes.Good For.brunch attributes.Good For.lunch  \\\n",
       "0                      False                     False   \n",
       "1                        NaN                       NaN   \n",
       "2                        NaN                       NaN   \n",
       "3                      False                      True   \n",
       "4                        NaN                       NaN   \n",
       "\n",
       "  attributes.Good For.dinner attributes.Good For.breakfast  \n",
       "0                      False                         False  \n",
       "1                        NaN                           NaN  \n",
       "2                        NaN                           NaN  \n",
       "3                      False                         False  \n",
       "4                        NaN                           NaN  "
      ]
     },
     "execution_count": 7,
     "metadata": {},
     "output_type": "execute_result"
    }
   ],
   "source": [
    "feature=['business_id','attributes.Noise Level','attributes.Wi-Fi','attributes.Price Range',\n",
    "        'attributes.Good for Kids','attributes.Waiter Service','attributes.Take-out','attributes.Outdoor Seating','attributes.Parking.lot','attributes.Parking.street',\n",
    "        'attributes.Parking.garage','attributes.Parking.valet','attributes.Parking.validated','attributes.Good For.dessert','attributes.Good For.latenight','attributes.Good For.brunch',\n",
    "        'attributes.Good For.lunch','attributes.Good For.dinner','attributes.Good For.breakfast']\n",
    "business_df=business[feature]\n",
    "business_df.head()"
   ]
  },
  {
   "cell_type": "code",
   "execution_count": 8,
   "metadata": {
    "collapsed": false
   },
   "outputs": [
    {
     "data": {
      "text/html": [
       "<div>\n",
       "<table border=\"1\" class=\"dataframe\">\n",
       "  <thead>\n",
       "    <tr style=\"text-align: right;\">\n",
       "      <th></th>\n",
       "      <th>business_id</th>\n",
       "      <th>categories</th>\n",
       "      <th>city</th>\n",
       "      <th>stars</th>\n",
       "      <th>state</th>\n",
       "      <th>Noise</th>\n",
       "      <th>Wi-Fi</th>\n",
       "      <th>Price</th>\n",
       "      <th>Kids</th>\n",
       "      <th>Waiter</th>\n",
       "      <th>...</th>\n",
       "      <th>street</th>\n",
       "      <th>garage</th>\n",
       "      <th>valet</th>\n",
       "      <th>validated</th>\n",
       "      <th>dessert</th>\n",
       "      <th>latenight</th>\n",
       "      <th>brunch</th>\n",
       "      <th>lunch</th>\n",
       "      <th>dinner</th>\n",
       "      <th>breakfast</th>\n",
       "    </tr>\n",
       "  </thead>\n",
       "  <tbody>\n",
       "    <tr>\n",
       "      <th>0</th>\n",
       "      <td>5UmKMjUEUNdYWqANhGckJw</td>\n",
       "      <td>['fast food', 'restaurants']</td>\n",
       "      <td>Dravosburg</td>\n",
       "      <td>3.5</td>\n",
       "      <td>PA</td>\n",
       "      <td>average</td>\n",
       "      <td>NaN</td>\n",
       "      <td>1.0</td>\n",
       "      <td>True</td>\n",
       "      <td>False</td>\n",
       "      <td>...</td>\n",
       "      <td>False</td>\n",
       "      <td>False</td>\n",
       "      <td>False</td>\n",
       "      <td>False</td>\n",
       "      <td>False</td>\n",
       "      <td>False</td>\n",
       "      <td>False</td>\n",
       "      <td>False</td>\n",
       "      <td>False</td>\n",
       "      <td>False</td>\n",
       "    </tr>\n",
       "    <tr>\n",
       "      <th>1</th>\n",
       "      <td>mVHrayjG3uZ_RLHkLj-AMg</td>\n",
       "      <td>['bars', 'american (new)', 'nightlife', 'loung...</td>\n",
       "      <td>Braddock</td>\n",
       "      <td>4.5</td>\n",
       "      <td>PA</td>\n",
       "      <td>average</td>\n",
       "      <td>no</td>\n",
       "      <td>2.0</td>\n",
       "      <td>True</td>\n",
       "      <td>True</td>\n",
       "      <td>...</td>\n",
       "      <td>False</td>\n",
       "      <td>False</td>\n",
       "      <td>False</td>\n",
       "      <td>False</td>\n",
       "      <td>False</td>\n",
       "      <td>False</td>\n",
       "      <td>False</td>\n",
       "      <td>True</td>\n",
       "      <td>False</td>\n",
       "      <td>False</td>\n",
       "    </tr>\n",
       "    <tr>\n",
       "      <th>2</th>\n",
       "      <td>KayYbHCt-RkbGcPdGOThNg</td>\n",
       "      <td>['bars', 'american (traditional)', 'nightlife'...</td>\n",
       "      <td>Carnegie</td>\n",
       "      <td>4.0</td>\n",
       "      <td>PA</td>\n",
       "      <td>loud</td>\n",
       "      <td>free</td>\n",
       "      <td>1.0</td>\n",
       "      <td>False</td>\n",
       "      <td>True</td>\n",
       "      <td>...</td>\n",
       "      <td>False</td>\n",
       "      <td>False</td>\n",
       "      <td>False</td>\n",
       "      <td>False</td>\n",
       "      <td>False</td>\n",
       "      <td>False</td>\n",
       "      <td>False</td>\n",
       "      <td>False</td>\n",
       "      <td>True</td>\n",
       "      <td>False</td>\n",
       "    </tr>\n",
       "    <tr>\n",
       "      <th>3</th>\n",
       "      <td>wJr6kSA5dchdgOdwH6dZ2w</td>\n",
       "      <td>['burgers', 'breakfast &amp; brunch', 'american (t...</td>\n",
       "      <td>Carnegie</td>\n",
       "      <td>3.5</td>\n",
       "      <td>PA</td>\n",
       "      <td>NaN</td>\n",
       "      <td>NaN</td>\n",
       "      <td>1.0</td>\n",
       "      <td>True</td>\n",
       "      <td>True</td>\n",
       "      <td>...</td>\n",
       "      <td>False</td>\n",
       "      <td>False</td>\n",
       "      <td>False</td>\n",
       "      <td>False</td>\n",
       "      <td>False</td>\n",
       "      <td>False</td>\n",
       "      <td>False</td>\n",
       "      <td>False</td>\n",
       "      <td>False</td>\n",
       "      <td>False</td>\n",
       "    </tr>\n",
       "    <tr>\n",
       "      <th>4</th>\n",
       "      <td>fNGIbpazjTRdXgwRY_NIXA</td>\n",
       "      <td>['bars', 'american (traditional)', 'nightlife'...</td>\n",
       "      <td>Carnegie</td>\n",
       "      <td>4.0</td>\n",
       "      <td>PA</td>\n",
       "      <td>average</td>\n",
       "      <td>free</td>\n",
       "      <td>1.0</td>\n",
       "      <td>True</td>\n",
       "      <td>True</td>\n",
       "      <td>...</td>\n",
       "      <td>False</td>\n",
       "      <td>False</td>\n",
       "      <td>False</td>\n",
       "      <td>False</td>\n",
       "      <td>False</td>\n",
       "      <td>False</td>\n",
       "      <td>False</td>\n",
       "      <td>False</td>\n",
       "      <td>False</td>\n",
       "      <td>False</td>\n",
       "    </tr>\n",
       "  </tbody>\n",
       "</table>\n",
       "<p>5 rows × 23 columns</p>\n",
       "</div>"
      ],
      "text/plain": [
       "              business_id                                         categories  \\\n",
       "0  5UmKMjUEUNdYWqANhGckJw                       ['fast food', 'restaurants']   \n",
       "1  mVHrayjG3uZ_RLHkLj-AMg  ['bars', 'american (new)', 'nightlife', 'loung...   \n",
       "2  KayYbHCt-RkbGcPdGOThNg  ['bars', 'american (traditional)', 'nightlife'...   \n",
       "3  wJr6kSA5dchdgOdwH6dZ2w  ['burgers', 'breakfast & brunch', 'american (t...   \n",
       "4  fNGIbpazjTRdXgwRY_NIXA  ['bars', 'american (traditional)', 'nightlife'...   \n",
       "\n",
       "         city  stars state    Noise Wi-Fi  Price   Kids Waiter    ...     \\\n",
       "0  Dravosburg    3.5    PA  average   NaN    1.0   True  False    ...      \n",
       "1    Braddock    4.5    PA  average    no    2.0   True   True    ...      \n",
       "2    Carnegie    4.0    PA     loud  free    1.0  False   True    ...      \n",
       "3    Carnegie    3.5    PA      NaN   NaN    1.0   True   True    ...      \n",
       "4    Carnegie    4.0    PA  average  free    1.0   True   True    ...      \n",
       "\n",
       "  street garage  valet validated dessert latenight brunch  lunch dinner  \\\n",
       "0  False  False  False     False   False     False  False  False  False   \n",
       "1  False  False  False     False   False     False  False   True  False   \n",
       "2  False  False  False     False   False     False  False  False   True   \n",
       "3  False  False  False     False   False     False  False  False  False   \n",
       "4  False  False  False     False   False     False  False  False  False   \n",
       "\n",
       "  breakfast  \n",
       "0     False  \n",
       "1     False  \n",
       "2     False  \n",
       "3     False  \n",
       "4     False  \n",
       "\n",
       "[5 rows x 23 columns]"
      ]
     },
     "execution_count": 8,
     "metadata": {},
     "output_type": "execute_result"
    }
   ],
   "source": [
    "business_one=pd.merge(business_restaurant,business_df,on='business_id') \n",
    "business_one.columns = [\"business_id\",\"categories\",\"city\",\"stars\",\"state\",\"Noise\",\n",
    "                       \"Wi-Fi\",\"Price\",\"Kids\",\"Waiter\",\"Take-out\",\"Outdoor-Seating\",\"lot\",\"street\",\n",
    "                       \"garage\",\"valet\",\"validated\",'dessert','latenight','brunch','lunch',\n",
    "                       'dinner','breakfast']\n",
    "business_one.head()"
   ]
  },
  {
   "cell_type": "code",
   "execution_count": 9,
   "metadata": {
    "collapsed": false
   },
   "outputs": [],
   "source": [
    "business_two = business_one.dropna()"
   ]
  },
  {
   "cell_type": "code",
   "execution_count": 10,
   "metadata": {
    "collapsed": false
   },
   "outputs": [],
   "source": [
    "# business_two = business_two[business_two.city==\"Las Vegas\"]\n",
    "# business_two.head()"
   ]
  },
  {
   "cell_type": "code",
   "execution_count": 11,
   "metadata": {
    "collapsed": false
   },
   "outputs": [],
   "source": [
    "# business_two = business_two.drop(['divey','classy','touristy','hipster','trendy',\n",
    "#                         'intimate','casual','romantic','upscale'],axis=1)"
   ]
  },
  {
   "cell_type": "markdown",
   "metadata": {},
   "source": [
    "### Define Parking Level"
   ]
  },
  {
   "cell_type": "code",
   "execution_count": 12,
   "metadata": {
    "collapsed": false
   },
   "outputs": [
    {
     "name": "stderr",
     "output_type": "stream",
     "text": [
      "/Users/Wendy/anaconda/lib/python3.5/site-packages/ipykernel/__main__.py:11: SettingWithCopyWarning: \n",
      "A value is trying to be set on a copy of a slice from a DataFrame.\n",
      "Try using .loc[row_indexer,col_indexer] = value instead\n",
      "\n",
      "See the caveats in the documentation: http://pandas.pydata.org/pandas-docs/stable/indexing.html#indexing-view-versus-copy\n",
      "/Users/Wendy/anaconda/lib/python3.5/site-packages/ipykernel/__main__.py:12: SettingWithCopyWarning: \n",
      "A value is trying to be set on a copy of a slice from a DataFrame.\n",
      "Try using .loc[row_indexer,col_indexer] = value instead\n",
      "\n",
      "See the caveats in the documentation: http://pandas.pydata.org/pandas-docs/stable/indexing.html#indexing-view-versus-copy\n",
      "/Users/Wendy/anaconda/lib/python3.5/site-packages/ipykernel/__main__.py:13: SettingWithCopyWarning: \n",
      "A value is trying to be set on a copy of a slice from a DataFrame.\n",
      "Try using .loc[row_indexer,col_indexer] = value instead\n",
      "\n",
      "See the caveats in the documentation: http://pandas.pydata.org/pandas-docs/stable/indexing.html#indexing-view-versus-copy\n"
     ]
    }
   ],
   "source": [
    "def get_park(park):\n",
    "    lot,street,garage,valet,validated = park\n",
    "    return True if lot+street+garage+valet+validated > 0 else False\n",
    "def get_park_level(park):\n",
    "    lot,street,garage,valet,validated = park\n",
    "    return lot+street+garage+valet+validated \n",
    "def get_good_level(good):\n",
    "    dessert,latenight,brunch,lunch,dinner,breakfast= good\n",
    "    return dessert+latenight+brunch+lunch+dinner+breakfast \n",
    "\n",
    "business_two['parking'] = business_two[['lot','street','garage','valet','validated']].apply(get_park,axis=1)\n",
    "business_two['park_level'] = business_two[['lot','street','garage','valet','validated']].apply(get_park_level,axis=1)\n",
    "business_two['good_level'] = business_two [['dessert','latenight','brunch','lunch','dinner','breakfast']].apply(get_good_level,axis=1)"
   ]
  },
  {
   "cell_type": "code",
   "execution_count": 13,
   "metadata": {
    "collapsed": true
   },
   "outputs": [],
   "source": [
    "business_three = business_two.drop(['lot','street','garage','valet','validated','dessert','latenight','brunch','lunch','dinner','breakfast'],axis=1)"
   ]
  },
  {
   "cell_type": "code",
   "execution_count": 14,
   "metadata": {
    "collapsed": false
   },
   "outputs": [
    {
     "data": {
      "text/html": [
       "<div>\n",
       "<table border=\"1\" class=\"dataframe\">\n",
       "  <thead>\n",
       "    <tr style=\"text-align: right;\">\n",
       "      <th></th>\n",
       "      <th>business_id</th>\n",
       "      <th>categories</th>\n",
       "      <th>city</th>\n",
       "      <th>stars</th>\n",
       "      <th>state</th>\n",
       "      <th>Noise</th>\n",
       "      <th>Wi-Fi</th>\n",
       "      <th>Price</th>\n",
       "      <th>Kids</th>\n",
       "      <th>Waiter</th>\n",
       "      <th>Take-out</th>\n",
       "      <th>Outdoor-Seating</th>\n",
       "      <th>parking</th>\n",
       "      <th>park_level</th>\n",
       "      <th>good_level</th>\n",
       "    </tr>\n",
       "  </thead>\n",
       "  <tbody>\n",
       "    <tr>\n",
       "      <th>1</th>\n",
       "      <td>mVHrayjG3uZ_RLHkLj-AMg</td>\n",
       "      <td>['bars', 'american (new)', 'nightlife', 'loung...</td>\n",
       "      <td>Braddock</td>\n",
       "      <td>4.5</td>\n",
       "      <td>PA</td>\n",
       "      <td>average</td>\n",
       "      <td>no</td>\n",
       "      <td>2.0</td>\n",
       "      <td>True</td>\n",
       "      <td>True</td>\n",
       "      <td>True</td>\n",
       "      <td>False</td>\n",
       "      <td>False</td>\n",
       "      <td>0</td>\n",
       "      <td>1</td>\n",
       "    </tr>\n",
       "    <tr>\n",
       "      <th>2</th>\n",
       "      <td>KayYbHCt-RkbGcPdGOThNg</td>\n",
       "      <td>['bars', 'american (traditional)', 'nightlife'...</td>\n",
       "      <td>Carnegie</td>\n",
       "      <td>4.0</td>\n",
       "      <td>PA</td>\n",
       "      <td>loud</td>\n",
       "      <td>free</td>\n",
       "      <td>1.0</td>\n",
       "      <td>False</td>\n",
       "      <td>True</td>\n",
       "      <td>True</td>\n",
       "      <td>True</td>\n",
       "      <td>True</td>\n",
       "      <td>1</td>\n",
       "      <td>1</td>\n",
       "    </tr>\n",
       "    <tr>\n",
       "      <th>4</th>\n",
       "      <td>fNGIbpazjTRdXgwRY_NIXA</td>\n",
       "      <td>['bars', 'american (traditional)', 'nightlife'...</td>\n",
       "      <td>Carnegie</td>\n",
       "      <td>4.0</td>\n",
       "      <td>PA</td>\n",
       "      <td>average</td>\n",
       "      <td>free</td>\n",
       "      <td>1.0</td>\n",
       "      <td>True</td>\n",
       "      <td>True</td>\n",
       "      <td>True</td>\n",
       "      <td>False</td>\n",
       "      <td>True</td>\n",
       "      <td>1</td>\n",
       "      <td>0</td>\n",
       "    </tr>\n",
       "    <tr>\n",
       "      <th>5</th>\n",
       "      <td>b9WZJp5L1RZr4F1nxclOoQ</td>\n",
       "      <td>['breakfast &amp; brunch', 'sandwiches', 'restaura...</td>\n",
       "      <td>Carnegie</td>\n",
       "      <td>4.5</td>\n",
       "      <td>PA</td>\n",
       "      <td>average</td>\n",
       "      <td>no</td>\n",
       "      <td>1.0</td>\n",
       "      <td>True</td>\n",
       "      <td>True</td>\n",
       "      <td>True</td>\n",
       "      <td>False</td>\n",
       "      <td>True</td>\n",
       "      <td>1</td>\n",
       "      <td>1</td>\n",
       "    </tr>\n",
       "    <tr>\n",
       "      <th>11</th>\n",
       "      <td>wqu7ILomIOPSduRwoWp4AQ</td>\n",
       "      <td>['breakfast &amp; brunch', 'american (traditional)...</td>\n",
       "      <td>Pittsburgh</td>\n",
       "      <td>3.5</td>\n",
       "      <td>PA</td>\n",
       "      <td>average</td>\n",
       "      <td>no</td>\n",
       "      <td>1.0</td>\n",
       "      <td>True</td>\n",
       "      <td>True</td>\n",
       "      <td>True</td>\n",
       "      <td>False</td>\n",
       "      <td>False</td>\n",
       "      <td>0</td>\n",
       "      <td>1</td>\n",
       "    </tr>\n",
       "  </tbody>\n",
       "</table>\n",
       "</div>"
      ],
      "text/plain": [
       "               business_id                                         categories  \\\n",
       "1   mVHrayjG3uZ_RLHkLj-AMg  ['bars', 'american (new)', 'nightlife', 'loung...   \n",
       "2   KayYbHCt-RkbGcPdGOThNg  ['bars', 'american (traditional)', 'nightlife'...   \n",
       "4   fNGIbpazjTRdXgwRY_NIXA  ['bars', 'american (traditional)', 'nightlife'...   \n",
       "5   b9WZJp5L1RZr4F1nxclOoQ  ['breakfast & brunch', 'sandwiches', 'restaura...   \n",
       "11  wqu7ILomIOPSduRwoWp4AQ  ['breakfast & brunch', 'american (traditional)...   \n",
       "\n",
       "          city  stars state    Noise Wi-Fi  Price   Kids Waiter Take-out  \\\n",
       "1     Braddock    4.5    PA  average    no    2.0   True   True     True   \n",
       "2     Carnegie    4.0    PA     loud  free    1.0  False   True     True   \n",
       "4     Carnegie    4.0    PA  average  free    1.0   True   True     True   \n",
       "5     Carnegie    4.5    PA  average    no    1.0   True   True     True   \n",
       "11  Pittsburgh    3.5    PA  average    no    1.0   True   True     True   \n",
       "\n",
       "   Outdoor-Seating parking  park_level  good_level  \n",
       "1            False   False           0           1  \n",
       "2             True    True           1           1  \n",
       "4            False    True           1           0  \n",
       "5            False    True           1           1  \n",
       "11           False   False           0           1  "
      ]
     },
     "execution_count": 14,
     "metadata": {},
     "output_type": "execute_result"
    }
   ],
   "source": [
    "restaurant = business_three\n",
    "restaurant.head()"
   ]
  },
  {
   "cell_type": "markdown",
   "metadata": {},
   "source": [
    "### Define High and Low"
   ]
  },
  {
   "cell_type": "code",
   "execution_count": 15,
   "metadata": {
    "collapsed": false
   },
   "outputs": [],
   "source": [
    "def group_stars(value):\n",
    "    if value <=3.5:\n",
    "        return 0\n",
    "    else:\n",
    "        return 1\n",
    "\n",
    "restaurant['stars'] = restaurant['stars'].apply(group_stars)\n"
   ]
  },
  {
   "cell_type": "code",
   "execution_count": 16,
   "metadata": {
    "collapsed": false
   },
   "outputs": [
    {
     "data": {
      "text/plain": [
       "0    9135\n",
       "1    6716\n",
       "Name: stars, dtype: int64"
      ]
     },
     "execution_count": 16,
     "metadata": {},
     "output_type": "execute_result"
    }
   ],
   "source": [
    "restaurant.stars.value_counts().sort_index()"
   ]
  },
  {
   "cell_type": "markdown",
   "metadata": {},
   "source": [
    "### Define Noise"
   ]
  },
  {
   "cell_type": "code",
   "execution_count": 17,
   "metadata": {
    "collapsed": false
   },
   "outputs": [
    {
     "data": {
      "text/html": [
       "<div>\n",
       "<table border=\"1\" class=\"dataframe\">\n",
       "  <thead>\n",
       "    <tr style=\"text-align: right;\">\n",
       "      <th></th>\n",
       "      <th>business_id</th>\n",
       "      <th>categories</th>\n",
       "      <th>city</th>\n",
       "      <th>stars</th>\n",
       "      <th>state</th>\n",
       "      <th>Noise</th>\n",
       "      <th>Wi-Fi</th>\n",
       "      <th>Price</th>\n",
       "      <th>Kids</th>\n",
       "      <th>Waiter</th>\n",
       "      <th>Take-out</th>\n",
       "      <th>Outdoor-Seating</th>\n",
       "      <th>parking</th>\n",
       "      <th>park_level</th>\n",
       "      <th>good_level</th>\n",
       "    </tr>\n",
       "  </thead>\n",
       "  <tbody>\n",
       "    <tr>\n",
       "      <th>1</th>\n",
       "      <td>mVHrayjG3uZ_RLHkLj-AMg</td>\n",
       "      <td>['bars', 'american (new)', 'nightlife', 'loung...</td>\n",
       "      <td>Braddock</td>\n",
       "      <td>1</td>\n",
       "      <td>PA</td>\n",
       "      <td>1</td>\n",
       "      <td>no</td>\n",
       "      <td>2.0</td>\n",
       "      <td>True</td>\n",
       "      <td>True</td>\n",
       "      <td>True</td>\n",
       "      <td>False</td>\n",
       "      <td>False</td>\n",
       "      <td>0</td>\n",
       "      <td>1</td>\n",
       "    </tr>\n",
       "    <tr>\n",
       "      <th>2</th>\n",
       "      <td>KayYbHCt-RkbGcPdGOThNg</td>\n",
       "      <td>['bars', 'american (traditional)', 'nightlife'...</td>\n",
       "      <td>Carnegie</td>\n",
       "      <td>1</td>\n",
       "      <td>PA</td>\n",
       "      <td>2</td>\n",
       "      <td>free</td>\n",
       "      <td>1.0</td>\n",
       "      <td>False</td>\n",
       "      <td>True</td>\n",
       "      <td>True</td>\n",
       "      <td>True</td>\n",
       "      <td>True</td>\n",
       "      <td>1</td>\n",
       "      <td>1</td>\n",
       "    </tr>\n",
       "    <tr>\n",
       "      <th>4</th>\n",
       "      <td>fNGIbpazjTRdXgwRY_NIXA</td>\n",
       "      <td>['bars', 'american (traditional)', 'nightlife'...</td>\n",
       "      <td>Carnegie</td>\n",
       "      <td>1</td>\n",
       "      <td>PA</td>\n",
       "      <td>1</td>\n",
       "      <td>free</td>\n",
       "      <td>1.0</td>\n",
       "      <td>True</td>\n",
       "      <td>True</td>\n",
       "      <td>True</td>\n",
       "      <td>False</td>\n",
       "      <td>True</td>\n",
       "      <td>1</td>\n",
       "      <td>0</td>\n",
       "    </tr>\n",
       "    <tr>\n",
       "      <th>5</th>\n",
       "      <td>b9WZJp5L1RZr4F1nxclOoQ</td>\n",
       "      <td>['breakfast &amp; brunch', 'sandwiches', 'restaura...</td>\n",
       "      <td>Carnegie</td>\n",
       "      <td>1</td>\n",
       "      <td>PA</td>\n",
       "      <td>1</td>\n",
       "      <td>no</td>\n",
       "      <td>1.0</td>\n",
       "      <td>True</td>\n",
       "      <td>True</td>\n",
       "      <td>True</td>\n",
       "      <td>False</td>\n",
       "      <td>True</td>\n",
       "      <td>1</td>\n",
       "      <td>1</td>\n",
       "    </tr>\n",
       "    <tr>\n",
       "      <th>11</th>\n",
       "      <td>wqu7ILomIOPSduRwoWp4AQ</td>\n",
       "      <td>['breakfast &amp; brunch', 'american (traditional)...</td>\n",
       "      <td>Pittsburgh</td>\n",
       "      <td>0</td>\n",
       "      <td>PA</td>\n",
       "      <td>1</td>\n",
       "      <td>no</td>\n",
       "      <td>1.0</td>\n",
       "      <td>True</td>\n",
       "      <td>True</td>\n",
       "      <td>True</td>\n",
       "      <td>False</td>\n",
       "      <td>False</td>\n",
       "      <td>0</td>\n",
       "      <td>1</td>\n",
       "    </tr>\n",
       "  </tbody>\n",
       "</table>\n",
       "</div>"
      ],
      "text/plain": [
       "               business_id                                         categories  \\\n",
       "1   mVHrayjG3uZ_RLHkLj-AMg  ['bars', 'american (new)', 'nightlife', 'loung...   \n",
       "2   KayYbHCt-RkbGcPdGOThNg  ['bars', 'american (traditional)', 'nightlife'...   \n",
       "4   fNGIbpazjTRdXgwRY_NIXA  ['bars', 'american (traditional)', 'nightlife'...   \n",
       "5   b9WZJp5L1RZr4F1nxclOoQ  ['breakfast & brunch', 'sandwiches', 'restaura...   \n",
       "11  wqu7ILomIOPSduRwoWp4AQ  ['breakfast & brunch', 'american (traditional)...   \n",
       "\n",
       "          city  stars state  Noise Wi-Fi  Price   Kids Waiter Take-out  \\\n",
       "1     Braddock      1    PA      1    no    2.0   True   True     True   \n",
       "2     Carnegie      1    PA      2  free    1.0  False   True     True   \n",
       "4     Carnegie      1    PA      1  free    1.0   True   True     True   \n",
       "5     Carnegie      1    PA      1    no    1.0   True   True     True   \n",
       "11  Pittsburgh      0    PA      1    no    1.0   True   True     True   \n",
       "\n",
       "   Outdoor-Seating parking  park_level  good_level  \n",
       "1            False   False           0           1  \n",
       "2             True    True           1           1  \n",
       "4            False    True           1           0  \n",
       "5            False    True           1           1  \n",
       "11           False   False           0           1  "
      ]
     },
     "execution_count": 17,
     "metadata": {},
     "output_type": "execute_result"
    }
   ],
   "source": [
    "def new_noise(value):\n",
    "    if value == \"quiet\":\n",
    "        return 0\n",
    "    elif value ==\"average\":\n",
    "        return 1\n",
    "    elif value == \"loud\":\n",
    "        return 2\n",
    "    else:\n",
    "        return 3\n",
    "restaurant[\"Noise\"] = restaurant[\"Noise\"].apply(new_noise)\n",
    "restaurant.head()"
   ]
  },
  {
   "cell_type": "code",
   "execution_count": 18,
   "metadata": {
    "collapsed": false
   },
   "outputs": [
    {
     "data": {
      "text/html": [
       "<div>\n",
       "<table border=\"1\" class=\"dataframe\">\n",
       "  <thead>\n",
       "    <tr style=\"text-align: right;\">\n",
       "      <th></th>\n",
       "      <th>Noise</th>\n",
       "      <th>stars</th>\n",
       "    </tr>\n",
       "  </thead>\n",
       "  <tbody>\n",
       "    <tr>\n",
       "      <th>0</th>\n",
       "      <td>0</td>\n",
       "      <td>0.485623</td>\n",
       "    </tr>\n",
       "    <tr>\n",
       "      <th>1</th>\n",
       "      <td>1</td>\n",
       "      <td>0.431254</td>\n",
       "    </tr>\n",
       "    <tr>\n",
       "      <th>2</th>\n",
       "      <td>2</td>\n",
       "      <td>0.272973</td>\n",
       "    </tr>\n",
       "    <tr>\n",
       "      <th>3</th>\n",
       "      <td>3</td>\n",
       "      <td>0.125668</td>\n",
       "    </tr>\n",
       "  </tbody>\n",
       "</table>\n",
       "</div>"
      ],
      "text/plain": [
       "   Noise     stars\n",
       "0      0  0.485623\n",
       "1      1  0.431254\n",
       "2      2  0.272973\n",
       "3      3  0.125668"
      ]
     },
     "execution_count": 18,
     "metadata": {},
     "output_type": "execute_result"
    }
   ],
   "source": [
    "restaurant[['Noise', 'stars']].groupby(['Noise'], as_index=False).mean().sort_values(by='stars', ascending=False)"
   ]
  },
  {
   "cell_type": "markdown",
   "metadata": {},
   "source": [
    "### Define Wi-Fi"
   ]
  },
  {
   "cell_type": "code",
   "execution_count": 19,
   "metadata": {
    "collapsed": true
   },
   "outputs": [],
   "source": [
    "def new_wifi(value):\n",
    "    if value == \"no\":\n",
    "        return 1\n",
    "    elif value ==\"paid\":\n",
    "        return 0\n",
    "    else:\n",
    "        return 2\n",
    "    \n",
    "restaurant[\"Wi-Fi\"] = restaurant[\"Wi-Fi\"].apply(new_wifi)"
   ]
  },
  {
   "cell_type": "code",
   "execution_count": 20,
   "metadata": {
    "collapsed": false
   },
   "outputs": [
    {
     "data": {
      "text/html": [
       "<div>\n",
       "<table border=\"1\" class=\"dataframe\">\n",
       "  <thead>\n",
       "    <tr style=\"text-align: right;\">\n",
       "      <th></th>\n",
       "      <th>Wi-Fi</th>\n",
       "      <th>stars</th>\n",
       "    </tr>\n",
       "  </thead>\n",
       "  <tbody>\n",
       "    <tr>\n",
       "      <th>2</th>\n",
       "      <td>2</td>\n",
       "      <td>0.446746</td>\n",
       "    </tr>\n",
       "    <tr>\n",
       "      <th>1</th>\n",
       "      <td>1</td>\n",
       "      <td>0.410609</td>\n",
       "    </tr>\n",
       "    <tr>\n",
       "      <th>0</th>\n",
       "      <td>0</td>\n",
       "      <td>0.198276</td>\n",
       "    </tr>\n",
       "  </tbody>\n",
       "</table>\n",
       "</div>"
      ],
      "text/plain": [
       "   Wi-Fi     stars\n",
       "2      2  0.446746\n",
       "1      1  0.410609\n",
       "0      0  0.198276"
      ]
     },
     "execution_count": 20,
     "metadata": {},
     "output_type": "execute_result"
    }
   ],
   "source": [
    "restaurant[['Wi-Fi', 'stars']].groupby(['Wi-Fi'], as_index=False).mean().sort_values(by='stars', ascending=False)"
   ]
  },
  {
   "cell_type": "markdown",
   "metadata": {},
   "source": [
    "### Define Good Level"
   ]
  },
  {
   "cell_type": "code",
   "execution_count": 21,
   "metadata": {
    "collapsed": false
   },
   "outputs": [
    {
     "data": {
      "text/html": [
       "<div>\n",
       "<table border=\"1\" class=\"dataframe\">\n",
       "  <thead>\n",
       "    <tr style=\"text-align: right;\">\n",
       "      <th></th>\n",
       "      <th>good_level</th>\n",
       "      <th>stars</th>\n",
       "    </tr>\n",
       "  </thead>\n",
       "  <tbody>\n",
       "    <tr>\n",
       "      <th>1</th>\n",
       "      <td>1</td>\n",
       "      <td>0.448811</td>\n",
       "    </tr>\n",
       "    <tr>\n",
       "      <th>2</th>\n",
       "      <td>2</td>\n",
       "      <td>0.384110</td>\n",
       "    </tr>\n",
       "    <tr>\n",
       "      <th>0</th>\n",
       "      <td>0</td>\n",
       "      <td>0.353179</td>\n",
       "    </tr>\n",
       "    <tr>\n",
       "      <th>3</th>\n",
       "      <td>3</td>\n",
       "      <td>0.297959</td>\n",
       "    </tr>\n",
       "    <tr>\n",
       "      <th>4</th>\n",
       "      <td>4</td>\n",
       "      <td>0.289474</td>\n",
       "    </tr>\n",
       "    <tr>\n",
       "      <th>5</th>\n",
       "      <td>5</td>\n",
       "      <td>0.000000</td>\n",
       "    </tr>\n",
       "  </tbody>\n",
       "</table>\n",
       "</div>"
      ],
      "text/plain": [
       "   good_level     stars\n",
       "1           1  0.448811\n",
       "2           2  0.384110\n",
       "0           0  0.353179\n",
       "3           3  0.297959\n",
       "4           4  0.289474\n",
       "5           5  0.000000"
      ]
     },
     "execution_count": 21,
     "metadata": {},
     "output_type": "execute_result"
    }
   ],
   "source": [
    "restaurant\n",
    "restaurant[['good_level', 'stars']].groupby(['good_level'], as_index=False).mean().sort_values(by='stars', ascending=False)"
   ]
  },
  {
   "cell_type": "code",
   "execution_count": 22,
   "metadata": {
    "collapsed": false
   },
   "outputs": [
    {
     "data": {
      "text/html": [
       "<div>\n",
       "<table border=\"1\" class=\"dataframe\">\n",
       "  <thead>\n",
       "    <tr style=\"text-align: right;\">\n",
       "      <th></th>\n",
       "      <th>parking</th>\n",
       "      <th>stars</th>\n",
       "    </tr>\n",
       "  </thead>\n",
       "  <tbody>\n",
       "    <tr>\n",
       "      <th>1</th>\n",
       "      <td>True</td>\n",
       "      <td>0.447360</td>\n",
       "    </tr>\n",
       "    <tr>\n",
       "      <th>0</th>\n",
       "      <td>False</td>\n",
       "      <td>0.335422</td>\n",
       "    </tr>\n",
       "  </tbody>\n",
       "</table>\n",
       "</div>"
      ],
      "text/plain": [
       "  parking     stars\n",
       "1    True  0.447360\n",
       "0   False  0.335422"
      ]
     },
     "execution_count": 22,
     "metadata": {},
     "output_type": "execute_result"
    }
   ],
   "source": [
    "restaurant\n",
    "restaurant[['parking', 'stars']].groupby(['parking'], as_index=False).mean().sort_values(by='stars', ascending=False)"
   ]
  },
  {
   "cell_type": "code",
   "execution_count": 23,
   "metadata": {
    "collapsed": false
   },
   "outputs": [
    {
     "data": {
      "text/html": [
       "<div>\n",
       "<table border=\"1\" class=\"dataframe\">\n",
       "  <thead>\n",
       "    <tr style=\"text-align: right;\">\n",
       "      <th></th>\n",
       "      <th>business_id</th>\n",
       "      <th>categories</th>\n",
       "      <th>city</th>\n",
       "      <th>stars</th>\n",
       "      <th>state</th>\n",
       "      <th>Noise</th>\n",
       "      <th>Wi-Fi</th>\n",
       "      <th>Price</th>\n",
       "      <th>Kids</th>\n",
       "      <th>Waiter</th>\n",
       "      <th>Take-out</th>\n",
       "      <th>Outdoor-Seating</th>\n",
       "      <th>parking</th>\n",
       "      <th>park_level</th>\n",
       "      <th>good_level</th>\n",
       "    </tr>\n",
       "  </thead>\n",
       "  <tbody>\n",
       "    <tr>\n",
       "      <th>1</th>\n",
       "      <td>mVHrayjG3uZ_RLHkLj-AMg</td>\n",
       "      <td>['bars', 'american (new)', 'nightlife', 'loung...</td>\n",
       "      <td>Braddock</td>\n",
       "      <td>1</td>\n",
       "      <td>PA</td>\n",
       "      <td>1</td>\n",
       "      <td>1</td>\n",
       "      <td>2.0</td>\n",
       "      <td>True</td>\n",
       "      <td>True</td>\n",
       "      <td>True</td>\n",
       "      <td>False</td>\n",
       "      <td>False</td>\n",
       "      <td>0</td>\n",
       "      <td>1</td>\n",
       "    </tr>\n",
       "    <tr>\n",
       "      <th>2</th>\n",
       "      <td>KayYbHCt-RkbGcPdGOThNg</td>\n",
       "      <td>['bars', 'american (traditional)', 'nightlife'...</td>\n",
       "      <td>Carnegie</td>\n",
       "      <td>1</td>\n",
       "      <td>PA</td>\n",
       "      <td>2</td>\n",
       "      <td>2</td>\n",
       "      <td>1.0</td>\n",
       "      <td>False</td>\n",
       "      <td>True</td>\n",
       "      <td>True</td>\n",
       "      <td>True</td>\n",
       "      <td>True</td>\n",
       "      <td>1</td>\n",
       "      <td>1</td>\n",
       "    </tr>\n",
       "    <tr>\n",
       "      <th>4</th>\n",
       "      <td>fNGIbpazjTRdXgwRY_NIXA</td>\n",
       "      <td>['bars', 'american (traditional)', 'nightlife'...</td>\n",
       "      <td>Carnegie</td>\n",
       "      <td>1</td>\n",
       "      <td>PA</td>\n",
       "      <td>1</td>\n",
       "      <td>2</td>\n",
       "      <td>1.0</td>\n",
       "      <td>True</td>\n",
       "      <td>True</td>\n",
       "      <td>True</td>\n",
       "      <td>False</td>\n",
       "      <td>True</td>\n",
       "      <td>1</td>\n",
       "      <td>0</td>\n",
       "    </tr>\n",
       "    <tr>\n",
       "      <th>5</th>\n",
       "      <td>b9WZJp5L1RZr4F1nxclOoQ</td>\n",
       "      <td>['breakfast &amp; brunch', 'sandwiches', 'restaura...</td>\n",
       "      <td>Carnegie</td>\n",
       "      <td>1</td>\n",
       "      <td>PA</td>\n",
       "      <td>1</td>\n",
       "      <td>1</td>\n",
       "      <td>1.0</td>\n",
       "      <td>True</td>\n",
       "      <td>True</td>\n",
       "      <td>True</td>\n",
       "      <td>False</td>\n",
       "      <td>True</td>\n",
       "      <td>1</td>\n",
       "      <td>1</td>\n",
       "    </tr>\n",
       "    <tr>\n",
       "      <th>11</th>\n",
       "      <td>wqu7ILomIOPSduRwoWp4AQ</td>\n",
       "      <td>['breakfast &amp; brunch', 'american (traditional)...</td>\n",
       "      <td>Pittsburgh</td>\n",
       "      <td>0</td>\n",
       "      <td>PA</td>\n",
       "      <td>1</td>\n",
       "      <td>1</td>\n",
       "      <td>1.0</td>\n",
       "      <td>True</td>\n",
       "      <td>True</td>\n",
       "      <td>True</td>\n",
       "      <td>False</td>\n",
       "      <td>False</td>\n",
       "      <td>0</td>\n",
       "      <td>1</td>\n",
       "    </tr>\n",
       "  </tbody>\n",
       "</table>\n",
       "</div>"
      ],
      "text/plain": [
       "               business_id                                         categories  \\\n",
       "1   mVHrayjG3uZ_RLHkLj-AMg  ['bars', 'american (new)', 'nightlife', 'loung...   \n",
       "2   KayYbHCt-RkbGcPdGOThNg  ['bars', 'american (traditional)', 'nightlife'...   \n",
       "4   fNGIbpazjTRdXgwRY_NIXA  ['bars', 'american (traditional)', 'nightlife'...   \n",
       "5   b9WZJp5L1RZr4F1nxclOoQ  ['breakfast & brunch', 'sandwiches', 'restaura...   \n",
       "11  wqu7ILomIOPSduRwoWp4AQ  ['breakfast & brunch', 'american (traditional)...   \n",
       "\n",
       "          city  stars state  Noise  Wi-Fi  Price   Kids Waiter Take-out  \\\n",
       "1     Braddock      1    PA      1      1    2.0   True   True     True   \n",
       "2     Carnegie      1    PA      2      2    1.0  False   True     True   \n",
       "4     Carnegie      1    PA      1      2    1.0   True   True     True   \n",
       "5     Carnegie      1    PA      1      1    1.0   True   True     True   \n",
       "11  Pittsburgh      0    PA      1      1    1.0   True   True     True   \n",
       "\n",
       "   Outdoor-Seating parking  park_level  good_level  \n",
       "1            False   False           0           1  \n",
       "2             True    True           1           1  \n",
       "4            False    True           1           0  \n",
       "5            False    True           1           1  \n",
       "11           False   False           0           1  "
      ]
     },
     "execution_count": 23,
     "metadata": {},
     "output_type": "execute_result"
    }
   ],
   "source": [
    "restaurant.head()"
   ]
  },
  {
   "cell_type": "markdown",
   "metadata": {},
   "source": [
    "### Correlation"
   ]
  },
  {
   "cell_type": "code",
   "execution_count": 24,
   "metadata": {
    "collapsed": false
   },
   "outputs": [],
   "source": [
    "restaurant_1 = restaurant[restaurant.city=='Las Vegas']\n",
    "restaurant_las = restaurant_1.drop([\"business_id\",\"categories\",\"city\",\"state\",\"parking\"],axis=1)\n",
    "restaurant_2 = restaurant[restaurant.city=='Edinburgh']\n",
    "restaurant_ed = restaurant_2.drop([\"business_id\",\"categories\",\"city\",\"state\",\"parking\"],axis=1)\n",
    "\n",
    "\n",
    "# new_restaurant = restaurant.drop([\"business_id\",\"categories\",\"city\",\"state\",\"parking\"],axis=1)\n"
   ]
  },
  {
   "cell_type": "code",
   "execution_count": 25,
   "metadata": {
    "collapsed": false,
    "scrolled": true
   },
   "outputs": [
    {
     "data": {
      "text/plain": [
       "<matplotlib.axes._subplots.AxesSubplot at 0x11c048160>"
      ]
     },
     "execution_count": 25,
     "metadata": {},
     "output_type": "execute_result"
    },
    {
     "data": {
      "image/png": "[encoded data removed]",
      "text/plain": [
       "<matplotlib.figure.Figure at 0x11c04b748>"
      ]
     },
     "metadata": {},
     "output_type": "display_data"
    }
   ],
   "source": [
    "colormap = plt.cm.viridis\n",
    "plt.figure(figsize=(8,8))\n",
    "plt.title('Pearson Correlation of Features', y=1.05, size=15)\n",
    "sns.heatmap(restaurant_las.astype(float).corr(),linewidths=0.1,vmax=1.0, square=True, cmap=colormap, linecolor='white', annot=True)"
   ]
  },
  {
   "cell_type": "markdown",
   "metadata": {},
   "source": [
    "### Define x_train and y_train"
   ]
  },
  {
   "cell_type": "code",
   "execution_count": 32,
   "metadata": {
    "collapsed": false
   },
   "outputs": [],
   "source": [
    "X_train_las = restaurant_las.drop([\"stars\"],axis=1)\n",
    "Y_train_las = restaurant_las[\"stars\"].ravel()\n",
    "X_train_ed = restaurant_ed.drop([\"stars\"],axis=1)\n",
    "Y_train_ed = restaurant_ed[\"stars\"].ravel()\n"
   ]
  },
  {
   "cell_type": "code",
   "execution_count": 33,
   "metadata": {
    "collapsed": false
   },
   "outputs": [
    {
     "data": {
      "text/plain": [
       "67.900000000000006"
      ]
     },
     "execution_count": 33,
     "metadata": {},
     "output_type": "execute_result"
    }
   ],
   "source": [
    "random_forest_las = RandomForestClassifier(n_estimators=100)\n",
    "random_forest_las.fit(X_train_las, Y_train_las)\n",
    "random_forest_las.score(X_train_las, Y_train_las)\n",
    "\n",
    "acc_random_forest_las = round(random_forest_las.score(X_train_las, Y_train_las) * 100, 2)\n",
    "acc_random_forest_las"
   ]
  },
  {
   "cell_type": "code",
   "execution_count": 34,
   "metadata": {
    "collapsed": false
   },
   "outputs": [
    {
     "data": {
      "text/plain": [
       "89.760000000000005"
      ]
     },
     "execution_count": 34,
     "metadata": {},
     "output_type": "execute_result"
    }
   ],
   "source": [
    "random_forest_ed = RandomForestClassifier(n_estimators=100)\n",
    "random_forest_ed.fit(X_train_ed, Y_train_ed)\n",
    "random_forest_ed.score(X_train_ed, Y_train_ed)\n",
    "\n",
    "acc_random_forest_ed = round(random_forest_ed.score(X_train_ed, Y_train_ed) * 100, 2)\n",
    "acc_random_forest_ed\n"
   ]
  },
  {
   "cell_type": "code",
   "execution_count": 50,
   "metadata": {
    "collapsed": false
   },
   "outputs": [
    {
     "data": {
      "image/png": "[encoded data removed]",
      "text/plain": [
       "<matplotlib.figure.Figure at 0x1173652e8>"
      ]
     },
     "metadata": {},
     "output_type": "display_data"
    }
   ],
   "source": [
    "importances_las = random_forest_las.feature_importances_\n",
    "importances_ed = random_forest_ed.feature_importances_\n",
    "\n",
    "results={}\n",
    "names=X_train_las.columns.values\n",
    "results[\"Las\"] = random_forest_las.feature_importances_\n",
    "results[\"Edinburgh\"] = random_forest_ed.feature_importances_\n",
    "# results[\"Mera\"] = random_forest_ed.feature_importances_\n",
    "\n",
    "# results=result.T\n",
    "\n",
    "results = pd.DataFrame.from_dict(results,orient='index')\n",
    "results.columns=names\n",
    "results = results.T\n",
    "results.plot(kind=\"bar\",title=\"Feature Importance\",figsize=(8, 6))\n",
    "axes = plt.gca()\n",
    "# axes.set_ylim([0,1])\n",
    "\n",
    "# results"
   ]
  },
  {
   "cell_type": "code",
   "execution_count": null,
   "metadata": {
    "collapsed": true
   },
   "outputs": [],
   "source": []
  }
 ],
 "metadata": {
  "anaconda-cloud": {},
  "kernelspec": {
   "display_name": "Python [default]",
   "language": "python",
   "name": "python3"
  },
  "language_info": {
   "codemirror_mode": {
    "name": "ipython",
    "version": 3
   },
   "file_extension": ".py",
   "mimetype": "text/x-python",
   "name": "python",
   "nbconvert_exporter": "python",
   "pygments_lexer": "ipython3",
   "version": "3.5.2"
  }
 },
 "nbformat": 4,
 "nbformat_minor": 1
}
