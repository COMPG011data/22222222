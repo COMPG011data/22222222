{
 "cells": [
  {
   "cell_type": "code",
   "execution_count": 279,
   "metadata": {
    "collapsed": true
   },
   "outputs": [],
   "source": [
    "import pandas as pd\n",
    "import numpy as np"
   ]
  },
  {
   "cell_type": "code",
   "execution_count": 461,
   "metadata": {
    "collapsed": false
   },
   "outputs": [],
   "source": [
    "new_file=pd.read_csv('C:/Users/yifeichongtian/Desktop/UCL course material/data analytics/3rd report/new_business.csv')"
   ]
  },
  {
   "cell_type": "code",
   "execution_count": 462,
   "metadata": {
    "collapsed": false
   },
   "outputs": [
    {
     "name": "stdout",
     "output_type": "stream",
     "text": [
      "<class 'pandas.core.frame.DataFrame'>\n",
      "RangeIndex: 16273 entries, 0 to 16272\n",
      "Data columns (total 12 columns):\n",
      "Unnamed: 0     16273 non-null int64\n",
      "business_id    16273 non-null object\n",
      "categories     16273 non-null object\n",
      "city           16273 non-null object\n",
      "stars          16273 non-null float64\n",
      "state          16273 non-null object\n",
      "Noise          16273 non-null object\n",
      "Wi-Fi          16273 non-null object\n",
      "Price          16273 non-null float64\n",
      "Kids           16273 non-null bool\n",
      "Take-out       16273 non-null bool\n",
      "park           16273 non-null bool\n",
      "dtypes: bool(3), float64(2), int64(1), object(6)\n",
      "memory usage: 1.2+ MB\n"
     ]
    }
   ],
   "source": [
    "new_file.info()"
   ]
  },
  {
   "cell_type": "markdown",
   "metadata": {},
   "source": [
    "## Linear Feature Selection by Pearson Correlation Coefficient"
   ]
  },
  {
   "cell_type": "code",
   "execution_count": 463,
   "metadata": {
    "collapsed": true
   },
   "outputs": [],
   "source": [
    "# import sklearn and use its linear regression model\n",
    "from sklearn import linear_model"
   ]
  },
  {
   "cell_type": "code",
   "execution_count": 374,
   "metadata": {
    "collapsed": false
   },
   "outputs": [
    {
     "data": {
      "text/plain": [
       "average      11472\n",
       "quiet         3258\n",
       "loud          1151\n",
       "very_loud      392\n",
       "Name: Noise, dtype: int64"
      ]
     },
     "execution_count": 374,
     "metadata": {},
     "output_type": "execute_result"
    }
   ],
   "source": [
    "new_file.Noise.value_counts()"
   ]
  },
  {
   "cell_type": "code",
   "execution_count": 375,
   "metadata": {
    "collapsed": false
   },
   "outputs": [
    {
     "data": {
      "text/plain": [
       "no      9566\n",
       "free    6578\n",
       "paid     129\n",
       "Name: Wi-Fi, dtype: int64"
      ]
     },
     "execution_count": 375,
     "metadata": {},
     "output_type": "execute_result"
    }
   ],
   "source": [
    "new_file['Wi-Fi'].value_counts()"
   ]
  },
  {
   "cell_type": "code",
   "execution_count": 376,
   "metadata": {
    "collapsed": false
   },
   "outputs": [
    {
     "data": {
      "text/plain": [
       "True     12595\n",
       "False     3678\n",
       "Name: park, dtype: int64"
      ]
     },
     "execution_count": 376,
     "metadata": {},
     "output_type": "execute_result"
    }
   ],
   "source": [
    "new_file['park'].value_counts()"
   ]
  },
  {
   "cell_type": "code",
   "execution_count": 464,
   "metadata": {
    "collapsed": true
   },
   "outputs": [],
   "source": [
    "from sklearn import preprocessing\n",
    "np.random.seed(12)\n",
    "\n",
    "label_encoder=preprocessing.LabelEncoder()\n",
    "\n",
    "new_file['Noise']=label_encoder.fit_transform(new_file['Noise'])\n",
    "new_file['Wi-Fi']=label_encoder.fit_transform(new_file['Wi-Fi'])\n",
    "new_file['Kids']=label_encoder.fit_transform(new_file['Kids'])\n",
    "new_file['Take-out']=label_encoder.fit_transform(new_file['Take-out'])\n",
    "new_file['park']=label_encoder.fit_transform(new_file['park'])"
   ]
  },
  {
   "cell_type": "code",
   "execution_count": 465,
   "metadata": {
    "collapsed": true
   },
   "outputs": [],
   "source": [
    "features=[\"Noise\",\"Wi-Fi\",\"Price\",\"Kids\",\"Take-out\",\"park\"]\n",
    "x=new_file[features]\n",
    "y=new_file[\"stars\"]"
   ]
  },
  {
   "cell_type": "markdown",
   "metadata": {},
   "source": [
    "#### *There are 6 features in total, which is not many.*\n",
    "\n",
    "And we will use Pearson Correlation Coefficient to measure how two set of values are linearly correlated, and the result value must be in the range [-1,1]. If it is equal or nearly equal to 0, it suggests that they are not correlated, but when the value gets close to one, it exhibit positive correlation, and vice verse when it gets close to minus 1."
   ]
  },
  {
   "cell_type": "code",
   "execution_count": 470,
   "metadata": {
    "collapsed": false
   },
   "outputs": [
    {
     "name": "stdout",
     "output_type": "stream",
     "text": [
      "Here are the selected values and their R values\n",
      "Wi-Fi : -0.0578776526475\n",
      "Price : 0.0804826394613\n",
      "Take-out : -0.0590775725225\n",
      "park : 0.188875384523\n"
     ]
    }
   ],
   "source": [
    "import math\n",
    "\n",
    "# Use this function to get R value (not squared)\n",
    "def computeCorrelation(x, y):\n",
    "    xBar = np.mean(x)\n",
    "    yBar = np.mean(y)\n",
    "    SSR = 0\n",
    "    varX = 0\n",
    "    varY = 0\n",
    "    for i in range(0 , len(x)):\n",
    "        diffXXBar = x[i] - xBar\n",
    "        diffYYBar = y[i] - yBar\n",
    "        SSR += (diffXXBar * diffYYBar)\n",
    "        varX += diffXXBar**2\n",
    "        varY += diffYYBar**2\n",
    "        SST = math.sqrt(varX * varY)\n",
    "    return SSR / SST\n",
    "\n",
    "# An empty array for tuples\n",
    "linear_features_and_R = [] \n",
    "# An empty array for selected linear features\n",
    "linear_features = []\n",
    "# An array for R values\n",
    "R = np.zeros(len(features))\n",
    "# For every feature, calculate how much it is correlated with\n",
    "# 'stars rating'\n",
    "for i in range(0,len(features)):\n",
    "    testX = new_file[features[i]].values\n",
    "    testY = y.values\n",
    "    R[i] = computeCorrelation(testX, testY)\n",
    "    if abs(R[i]) > 0.05:\n",
    "        linear_features.append(features[i])\n",
    "        linear_features_and_R.append((features[i], R[i]))\n",
    "\n",
    "print(\"Here are the selected values and their R values\")\n",
    "for i in range(0, len(linear_features_and_R)):\n",
    "    print(linear_features_and_R[i][0],\":\",linear_features_and_R[i][1])"
   ]
  },
  {
   "cell_type": "markdown",
   "metadata": {},
   "source": [
    "## Mutiple linear regression"
   ]
  },
  {
   "cell_type": "code",
   "execution_count": 380,
   "metadata": {
    "collapsed": true
   },
   "outputs": [],
   "source": [
    "# We can use the linear model from sklearn package\n",
    "from sklearn import linear_model"
   ]
  },
  {
   "cell_type": "code",
   "execution_count": 381,
   "metadata": {
    "collapsed": false
   },
   "outputs": [
    {
     "name": "stdout",
     "output_type": "stream",
     "text": [
      "coefficients: \n",
      "[-0.05570229  0.0338357  -0.11767028  0.29015455]\n",
      "intercept: \n",
      "3.40806948819\n",
      "\n",
      "The fitted equation becomes:\n",
      "-0.0557023*x1 + 0.0338357*x2 + -0.1176703*x3 + 0.2901546*x4 + (3.40806948819)\n",
      "\n",
      "In which,\n",
      "x1:Wi-Fi\n",
      "x2:Price\n",
      "x3:Take-out\n",
      "x4:park\n"
     ]
    }
   ],
   "source": [
    "# Update X data frames (independent variables)\n",
    "X = new_file[linear_features]\n",
    "# y stays the same\n",
    "y = new_file[\"stars\"]\n",
    "\n",
    "# A new linear regression model\n",
    "regr = linear_model.LinearRegression()\n",
    "\n",
    "# Fit X and y\n",
    "regr.fit(X, y)\n",
    "\n",
    "# Print out key parameters:\n",
    "print (\"coefficients: \")\n",
    "print (regr.coef_)\n",
    "print (\"intercept: \")\n",
    "print (regr.intercept_)\n",
    "print ()\n",
    "\n",
    "print(\"The fitted equation becomes:\")\n",
    "for i in range(0,len(linear_features)):\n",
    "    print(round(regr.coef_[i],7),end='')\n",
    "    print('*',end='')\n",
    "    print('x',end='')\n",
    "    print(i+1,end='')\n",
    "    print(' ',end='')\n",
    "    print('+',end='')\n",
    "    print(' ',end='')\n",
    "print('(',end='')\n",
    "print(regr.intercept_,end='')\n",
    "print(')')\n",
    "\n",
    "print()\n",
    "print('In which,')\n",
    "for i in range(0,len(linear_features)):\n",
    "    print('x',end='')\n",
    "    print(i+1,end='')\n",
    "    print(':',end='')\n",
    "    print(linear_features[i])    "
   ]
  },
  {
   "cell_type": "markdown",
   "metadata": {},
   "source": []
  },
  {
   "cell_type": "markdown",
   "metadata": {},
   "source": [
    "## Non-linear features selection by Random forest for Logistic regression"
   ]
  },
  {
   "cell_type": "code",
   "execution_count": 455,
   "metadata": {
    "collapsed": true
   },
   "outputs": [],
   "source": [
    "from sklearn.ensemble import RandomForestClassifier"
   ]
  },
  {
   "cell_type": "code",
   "execution_count": 456,
   "metadata": {
    "collapsed": false
   },
   "outputs": [],
   "source": [
    "features=[\"Noise\",\"Wi-Fi\",\"Price\",\"Kids\",\"Take-out\",\"park\"]\n",
    "x=new_file[features]\n",
    "y=new_file[\"stars\"]"
   ]
  },
  {
   "cell_type": "code",
   "execution_count": 457,
   "metadata": {
    "collapsed": false
   },
   "outputs": [
    {
     "data": {
      "text/plain": [
       "4.0    4794\n",
       "3.5    4657\n",
       "3.0    2755\n",
       "4.5    1894\n",
       "2.5    1307\n",
       "2.0     504\n",
       "5.0     178\n",
       "1.5     166\n",
       "1.0      18\n",
       "Name: stars, dtype: int64"
      ]
     },
     "execution_count": 457,
     "metadata": {},
     "output_type": "execute_result"
    }
   ],
   "source": [
    "y.value_counts()"
   ]
  },
  {
   "cell_type": "code",
   "execution_count": 459,
   "metadata": {
    "collapsed": false
   },
   "outputs": [
    {
     "data": {
      "text/plain": [
       "False    9407\n",
       "True     6866\n",
       "Name: stars, dtype: int64"
      ]
     },
     "execution_count": 459,
     "metadata": {},
     "output_type": "execute_result"
    }
   ],
   "source": [
    "y=y>y.mean()\n",
    "y.value_counts()"
   ]
  },
  {
   "cell_type": "code",
   "execution_count": 445,
   "metadata": {
    "collapsed": false
   },
   "outputs": [
    {
     "data": {
      "text/plain": [
       "RandomForestClassifier(bootstrap=True, class_weight=None, criterion='gini',\n",
       "            max_depth=None, max_features=2, max_leaf_nodes=None,\n",
       "            min_impurity_split=1e-07, min_samples_leaf=1,\n",
       "            min_samples_split=2, min_weight_fraction_leaf=0.0,\n",
       "            n_estimators=1000, n_jobs=1, oob_score=True, random_state=None,\n",
       "            verbose=0, warm_start=False)"
      ]
     },
     "execution_count": 445,
     "metadata": {},
     "output_type": "execute_result"
    }
   ],
   "source": [
    "rf_model=RandomForestClassifier(n_estimators=1000, max_features=2, oob_score=True)\n",
    "rf_model=rf_model.fit(x,y)\n",
    "rf_model"
   ]
  },
  {
   "cell_type": "code",
   "execution_count": 446,
   "metadata": {
    "collapsed": false
   },
   "outputs": [
    {
     "data": {
      "text/plain": [
       "0.60087261107355738"
      ]
     },
     "execution_count": 446,
     "metadata": {},
     "output_type": "execute_result"
    }
   ],
   "source": [
    "rf_model.oob_score_"
   ]
  },
  {
   "cell_type": "code",
   "execution_count": 447,
   "metadata": {
    "collapsed": false
   },
   "outputs": [
    {
     "name": "stdout",
     "output_type": "stream",
     "text": [
      "Noise : 0.366170891344\n",
      "Wi-Fi : 0.132678173448\n",
      "Price : 0.216518975017\n",
      "Kids : 0.0716142026604\n",
      "Take-out : 0.0692560691238\n",
      "park : 0.143761688406\n"
     ]
    }
   ],
   "source": [
    "for features,importance in zip(features, rf_model.feature_importances_):\n",
    "    print (features, \":\", importance)"
   ]
  },
  {
   "cell_type": "code",
   "execution_count": 448,
   "metadata": {
    "collapsed": false
   },
   "outputs": [],
   "source": [
    "new_file[\"intercept\"]=1\n",
    "new_features=[\"Noise\",\"Wi-Fi\",\"Price\",\"park\",\"intercept\"]\n",
    "x_logit=new_file[new_features]"
   ]
  },
  {
   "cell_type": "code",
   "execution_count": 449,
   "metadata": {
    "collapsed": false
   },
   "outputs": [],
   "source": [
    "import statsmodels.api as sm\n",
    "logit=sm.Logit(y,x_logit)"
   ]
  },
  {
   "cell_type": "code",
   "execution_count": 450,
   "metadata": {
    "collapsed": false
   },
   "outputs": [
    {
     "name": "stdout",
     "output_type": "stream",
     "text": [
      "Optimization terminated successfully.\n",
      "         Current function value: 0.675213\n",
      "         Iterations 4\n",
      "                           Logit Regression Results                           \n",
      "==============================================================================\n",
      "Dep. Variable:                  stars   No. Observations:                16273\n",
      "Model:                          Logit   Df Residuals:                    16268\n",
      "Method:                           MLE   Df Model:                            4\n",
      "Date:                Tue, 14 Mar 2017   Pseudo R-squ.:                0.008361\n",
      "Time:                        12:39:56   Log-Likelihood:                -10988.\n",
      "converged:                       True   LL-Null:                       -11080.\n",
      "                                        LLR p-value:                 5.450e-39\n",
      "==============================================================================\n",
      "                 coef    std err          z      P>|z|      [95.0% Conf. Int.]\n",
      "------------------------------------------------------------------------------\n",
      "Noise          0.0012      0.018      0.064      0.949        -0.035     0.037\n",
      "Wi-Fi         -0.1500      0.032     -4.726      0.000        -0.212    -0.088\n",
      "Price          0.0845      0.026      3.300      0.001         0.034     0.135\n",
      "park           0.4416      0.040     10.946      0.000         0.363     0.521\n",
      "intercept     -0.7093      0.058    -12.213      0.000        -0.823    -0.595\n",
      "==============================================================================\n"
     ]
    }
   ],
   "source": [
    "# displaying the result of logistic regression\n",
    "result=logit.fit()\n",
    "print(result.summary())"
   ]
  },
  {
   "cell_type": "code",
   "execution_count": 451,
   "metadata": {
    "collapsed": false
   },
   "outputs": [
    {
     "name": "stdout",
     "output_type": "stream",
     "text": [
      "Noise        0.001165\n",
      "Wi-Fi       -0.149993\n",
      "Price        0.084494\n",
      "park         0.441603\n",
      "intercept   -0.709326\n",
      "dtype: float64\n"
     ]
    }
   ],
   "source": [
    "print (result.params)"
   ]
  },
  {
   "cell_type": "code",
   "execution_count": 453,
   "metadata": {
    "collapsed": false
   },
   "outputs": [
    {
     "name": "stdout",
     "output_type": "stream",
     "text": [
      "Noise        1.001165\n",
      "Wi-Fi        0.860714\n",
      "Price        1.088166\n",
      "park         1.555198\n",
      "intercept    0.491976\n",
      "dtype: float64\n"
     ]
    }
   ],
   "source": [
    "# odds ratio\n",
    "print (np.exp(result.params))\n",
    "\n",
    "# odds ratio is between 0 and 1: this feature has a negative correlation with \"star rating\"\n",
    "# odds ratio is over 1: this feature has a positive correlation with \"star rating\""
   ]
  }
 ],
 "metadata": {
  "anaconda-cloud": {},
  "kernelspec": {
   "display_name": "Python [conda root]",
   "language": "python",
   "name": "conda-root-py"
  },
  "language_info": {
   "codemirror_mode": {
    "name": "ipython",
    "version": 3
   },
   "file_extension": ".py",
   "mimetype": "text/x-python",
   "name": "python",
   "nbconvert_exporter": "python",
   "pygments_lexer": "ipython3",
   "version": "3.5.2"
  }
 },
 "nbformat": 4,
 "nbformat_minor": 1
}
