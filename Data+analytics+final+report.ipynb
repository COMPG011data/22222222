{
 "cells": [
  {
   "cell_type": "code",
   "execution_count": 319,
   "metadata": {
    "collapsed": true
   },
   "outputs": [],
   "source": [
    "import pandas as pd\n",
    "import numpy as np"
   ]
  },
  {
   "cell_type": "code",
   "execution_count": 320,
   "metadata": {
    "collapsed": false
   },
   "outputs": [],
   "source": [
    "new_file=pd.read_csv('C:/Users/yifeichongtian/Desktop/UCL course material/data analytics/3rd report/new_business.csv')"
   ]
  },
  {
   "cell_type": "code",
   "execution_count": 321,
   "metadata": {
    "collapsed": false
   },
   "outputs": [
    {
     "name": "stdout",
     "output_type": "stream",
     "text": [
      "<class 'pandas.core.frame.DataFrame'>\n",
      "RangeIndex: 16273 entries, 0 to 16272\n",
      "Data columns (total 12 columns):\n",
      "Unnamed: 0     16273 non-null int64\n",
      "business_id    16273 non-null object\n",
      "categories     16273 non-null object\n",
      "city           16273 non-null object\n",
      "stars          16273 non-null float64\n",
      "state          16273 non-null object\n",
      "Noise          16273 non-null object\n",
      "Wi-Fi          16273 non-null object\n",
      "Price          16273 non-null float64\n",
      "Kids           16273 non-null bool\n",
      "Take-out       16273 non-null bool\n",
      "park           16273 non-null bool\n",
      "dtypes: bool(3), float64(2), int64(1), object(6)\n",
      "memory usage: 1.2+ MB\n"
     ]
    }
   ],
   "source": [
    "new_file.info()"
   ]
  },
  {
   "cell_type": "markdown",
   "metadata": {},
   "source": [
    "## Linear Feature Selection by Pearson Correlation Coefficient"
   ]
  },
  {
   "cell_type": "code",
   "execution_count": 322,
   "metadata": {
    "collapsed": true
   },
   "outputs": [],
   "source": [
    "# import sklearn and use its linear regression model\n",
    "from sklearn import linear_model"
   ]
  },
  {
   "cell_type": "code",
   "execution_count": 323,
   "metadata": {
    "collapsed": false
   },
   "outputs": [
    {
     "data": {
      "text/plain": [
       "average      11472\n",
       "quiet         3258\n",
       "loud          1151\n",
       "very_loud      392\n",
       "Name: Noise, dtype: int64"
      ]
     },
     "execution_count": 323,
     "metadata": {},
     "output_type": "execute_result"
    }
   ],
   "source": [
    "features=[\"Noise\",\"Kids\"]\n",
    "first_file=new_file[features]\n",
    "first_file[\"Noise\"].value_counts()"
   ]
  },
  {
   "cell_type": "code",
   "execution_count": 326,
   "metadata": {
    "collapsed": false
   },
   "outputs": [
    {
     "name": "stderr",
     "output_type": "stream",
     "text": [
      "C:\\Users\\yifeichongtian\\Anaconda3\\lib\\site-packages\\pandas\\core\\indexing.py:465: SettingWithCopyWarning: \n",
      "A value is trying to be set on a copy of a slice from a DataFrame.\n",
      "Try using .loc[row_indexer,col_indexer] = value instead\n",
      "\n",
      "See the caveats in the documentation: http://pandas.pydata.org/pandas-docs/stable/indexing.html#indexing-view-versus-copy\n",
      "  self.obj[item] = s\n",
      "C:\\Users\\yifeichongtian\\Anaconda3\\lib\\site-packages\\ipykernel\\__main__.py:5: SettingWithCopyWarning: \n",
      "A value is trying to be set on a copy of a slice from a DataFrame.\n",
      "Try using .loc[row_indexer,col_indexer] = value instead\n",
      "\n",
      "See the caveats in the documentation: http://pandas.pydata.org/pandas-docs/stable/indexing.html#indexing-view-versus-copy\n"
     ]
    },
    {
     "data": {
      "text/plain": [
       "1    11472\n",
       "0     3258\n",
       "2     1151\n",
       "3      392\n",
       "Name: Noise, dtype: int64"
      ]
     },
     "execution_count": 326,
     "metadata": {},
     "output_type": "execute_result"
    }
   ],
   "source": [
    "first_file.loc[first_file.Noise=='quiet',\"Noise\":]=0\n",
    "first_file.loc[first_file.Noise=='average',\"Noise\":]=1\n",
    "first_file.loc[first_file.Noise=='loud',\"Noise\":]=2\n",
    "first_file.loc[first_file.Noise=='very_loud',\"Noise\":]=3\n",
    "first_file[\"Noise\"]=label_encoder.fit_transform(first_file[\"Noise\"])\n",
    "first_file.Noise.value_counts()"
   ]
  },
  {
   "cell_type": "code",
   "execution_count": 327,
   "metadata": {
    "collapsed": false
   },
   "outputs": [
    {
     "data": {
      "text/plain": [
       "True     13015\n",
       "False     3258\n",
       "Name: Kids, dtype: int64"
      ]
     },
     "execution_count": 327,
     "metadata": {},
     "output_type": "execute_result"
    }
   ],
   "source": [
    "first_file[\"Kids\"].value_counts()"
   ]
  },
  {
   "cell_type": "code",
   "execution_count": 328,
   "metadata": {
    "collapsed": false
   },
   "outputs": [
    {
     "name": "stderr",
     "output_type": "stream",
     "text": [
      "C:\\Users\\yifeichongtian\\Anaconda3\\lib\\site-packages\\ipykernel\\__main__.py:6: SettingWithCopyWarning: \n",
      "A value is trying to be set on a copy of a slice from a DataFrame.\n",
      "Try using .loc[row_indexer,col_indexer] = value instead\n",
      "\n",
      "See the caveats in the documentation: http://pandas.pydata.org/pandas-docs/stable/indexing.html#indexing-view-versus-copy\n"
     ]
    }
   ],
   "source": [
    "from sklearn import preprocessing\n",
    "np.random.seed(12)\n",
    "\n",
    "label_encoder=preprocessing.LabelEncoder()\n",
    "\n",
    "first_file['Kids']=label_encoder.fit_transform(first_file['Kids'])"
   ]
  },
  {
   "cell_type": "code",
   "execution_count": 329,
   "metadata": {
    "collapsed": false
   },
   "outputs": [
    {
     "data": {
      "text/plain": [
       "0    9566\n",
       "1    6578\n",
       "2     129\n",
       "Name: Wi-Fi, dtype: int64"
      ]
     },
     "execution_count": 329,
     "metadata": {},
     "output_type": "execute_result"
    }
   ],
   "source": [
    "second_file=pd.DataFrame(new_file[\"Wi-Fi\"])\n",
    "second_file.loc[second_file['Wi-Fi']==\"no\",\"Wi-Fi\":]=0\n",
    "second_file.loc[second_file['Wi-Fi']==\"free\",\"Wi-Fi\":]=1\n",
    "second_file.loc[second_file['Wi-Fi']==\"paid\",\"Wi-Fi\":]=2\n",
    "second_file[\"Wi-Fi\"]=label_encoder.fit_transform(second_file[\"Wi-Fi\"])\n",
    "second_file[\"Wi-Fi\"].value_counts()"
   ]
  },
  {
   "cell_type": "code",
   "execution_count": 330,
   "metadata": {
    "collapsed": false
   },
   "outputs": [
    {
     "data": {
      "text/plain": [
       "True     12595\n",
       "False     3678\n",
       "Name: park, dtype: int64"
      ]
     },
     "execution_count": 330,
     "metadata": {},
     "output_type": "execute_result"
    }
   ],
   "source": [
    "new_file[\"park\"].value_counts()"
   ]
  },
  {
   "cell_type": "code",
   "execution_count": 332,
   "metadata": {
    "collapsed": false
   },
   "outputs": [
    {
     "data": {
      "text/plain": [
       "1    12595\n",
       "0     3678\n",
       "Name: park, dtype: int64"
      ]
     },
     "execution_count": 332,
     "metadata": {},
     "output_type": "execute_result"
    }
   ],
   "source": [
    "third_file=pd.DataFrame(new_file[\"park\"])\n",
    "third_file[\"park\"]=label_encoder.fit_transform(third_file[\"park\"])\n",
    "third_file.park.value_counts()"
   ]
  },
  {
   "cell_type": "code",
   "execution_count": 333,
   "metadata": {
    "collapsed": false
   },
   "outputs": [
    {
     "data": {
      "text/plain": [
       "1    15047\n",
       "0     1226\n",
       "Name: Take-out, dtype: int64"
      ]
     },
     "execution_count": 333,
     "metadata": {},
     "output_type": "execute_result"
    }
   ],
   "source": [
    "fourth_file=pd.DataFrame(new_file[\"Take-out\"])\n",
    "fourth_file[\"Take-out\"]=label_encoder.fit_transform(fourth_file[\"Take-out\"])\n",
    "fourth_file[\"Take-out\"].value_counts()"
   ]
  },
  {
   "cell_type": "code",
   "execution_count": 334,
   "metadata": {
    "collapsed": false
   },
   "outputs": [],
   "source": [
    "final_file=pd.concat([first_file,second_file,third_file, fourth_file, new_file[\"Price\"]],axis=1)"
   ]
  },
  {
   "cell_type": "code",
   "execution_count": 335,
   "metadata": {
    "collapsed": false
   },
   "outputs": [
    {
     "data": {
      "text/plain": [
       "1    11472\n",
       "0     3258\n",
       "2     1151\n",
       "3      392\n",
       "Name: Noise, dtype: int64"
      ]
     },
     "execution_count": 335,
     "metadata": {},
     "output_type": "execute_result"
    }
   ],
   "source": [
    "final_file.Noise.value_counts()"
   ]
  },
  {
   "cell_type": "code",
   "execution_count": 336,
   "metadata": {
    "collapsed": false
   },
   "outputs": [
    {
     "data": {
      "text/plain": [
       "2.0    8188\n",
       "1.0    7112\n",
       "3.0     787\n",
       "4.0     186\n",
       "Name: Price, dtype: int64"
      ]
     },
     "execution_count": 336,
     "metadata": {},
     "output_type": "execute_result"
    }
   ],
   "source": [
    "final_file.Price.value_counts()"
   ]
  },
  {
   "cell_type": "code",
   "execution_count": 337,
   "metadata": {
    "collapsed": false
   },
   "outputs": [
    {
     "data": {
      "text/plain": [
       "1    15047\n",
       "0     1226\n",
       "Name: Take-out, dtype: int64"
      ]
     },
     "execution_count": 337,
     "metadata": {},
     "output_type": "execute_result"
    }
   ],
   "source": [
    "final_file['Take-out'].value_counts()"
   ]
  },
  {
   "cell_type": "code",
   "execution_count": 338,
   "metadata": {
    "collapsed": false
   },
   "outputs": [
    {
     "data": {
      "text/plain": [
       "1    12595\n",
       "0     3678\n",
       "Name: park, dtype: int64"
      ]
     },
     "execution_count": 338,
     "metadata": {},
     "output_type": "execute_result"
    }
   ],
   "source": [
    "final_file.park.value_counts()"
   ]
  },
  {
   "cell_type": "code",
   "execution_count": 339,
   "metadata": {
    "collapsed": false
   },
   "outputs": [
    {
     "data": {
      "text/plain": [
       "0    9566\n",
       "1    6578\n",
       "2     129\n",
       "Name: Wi-Fi, dtype: int64"
      ]
     },
     "execution_count": 339,
     "metadata": {},
     "output_type": "execute_result"
    }
   ],
   "source": [
    "final_file['Wi-Fi'].value_counts()"
   ]
  },
  {
   "cell_type": "code",
   "execution_count": 340,
   "metadata": {
    "collapsed": false
   },
   "outputs": [
    {
     "data": {
      "text/plain": [
       "1    13015\n",
       "0     3258\n",
       "Name: Kids, dtype: int64"
      ]
     },
     "execution_count": 340,
     "metadata": {},
     "output_type": "execute_result"
    }
   ],
   "source": [
    "final_file.Kids.value_counts()"
   ]
  },
  {
   "cell_type": "code",
   "execution_count": null,
   "metadata": {
    "collapsed": true
   },
   "outputs": [],
   "source": []
  },
  {
   "cell_type": "code",
   "execution_count": 341,
   "metadata": {
    "collapsed": true
   },
   "outputs": [],
   "source": [
    "x=final_file\n",
    "y=new_file[\"stars\"]"
   ]
  },
  {
   "cell_type": "code",
   "execution_count": 342,
   "metadata": {
    "collapsed": false
   },
   "outputs": [
    {
     "data": {
      "text/plain": [
       "Index(['Noise', 'Kids', 'Wi-Fi', 'park', 'Take-out', 'Price'], dtype='object')"
      ]
     },
     "execution_count": 342,
     "metadata": {},
     "output_type": "execute_result"
    }
   ],
   "source": [
    "x.columns"
   ]
  },
  {
   "cell_type": "markdown",
   "metadata": {},
   "source": [
    "#### *There are 6 features in total, which is not many.*\n",
    "\n",
    "And we will use Pearson Correlation Coefficient to measure how two set of values are linearly correlated, and the result value must be in the range [-1,1]. If it is equal or nearly equal to 0, it suggests that they are not correlated, but when the value gets close to one, it exhibit positive correlation, and vice verse when it gets close to minus 1."
   ]
  },
  {
   "cell_type": "code",
   "execution_count": 343,
   "metadata": {
    "collapsed": false
   },
   "outputs": [
    {
     "name": "stdout",
     "output_type": "stream",
     "text": [
      "Here are the selected values and their R values\n",
      "Noise : -0.144149905578\n",
      "Kids : -0.0566649477546\n",
      "Wi-Fi : 0.029484947293\n",
      "park : 0.188875384523\n",
      "Take-out : -0.0590775725225\n",
      "Price : 0.0804826394613\n"
     ]
    }
   ],
   "source": [
    "import math\n",
    "\n",
    "# Use this function to get R value (not squared)\n",
    "def computeCorrelation(x, y):\n",
    "    xBar = np.mean(x)\n",
    "    yBar = np.mean(y)\n",
    "    SSR = 0\n",
    "    varX = 0\n",
    "    varY = 0\n",
    "    for i in range(0 , len(x)):\n",
    "        diffXXBar = x[i] - xBar\n",
    "        diffYYBar = y[i] - yBar\n",
    "        SSR += (diffXXBar * diffYYBar)\n",
    "        varX += diffXXBar**2\n",
    "        varY += diffYYBar**2\n",
    "        SST = math.sqrt(varX * varY)\n",
    "    return SSR / SST\n",
    "\n",
    "# An empty array for tuples\n",
    "linear_features_and_R = [] \n",
    "# An empty array for selected linear features\n",
    "linear_features = []\n",
    "# An array for R values\n",
    "R = np.zeros(len(final_file.columns))\n",
    "# For every feature, calculate how much it is correlated with\n",
    "# 'stars rating'\n",
    "for i in range(0,len(final_file.columns)):\n",
    "    testX = final_file[final_file.columns[i]].values\n",
    "    testY = y.values\n",
    "    R[i] = computeCorrelation(testX, testY)\n",
    "    if abs(R[i]) > 0:\n",
    "        linear_features.append(final_file.columns[i])\n",
    "        linear_features_and_R.append((final_file.columns[i], R[i]))\n",
    "\n",
    "print(\"Here are the selected values and their R values\")\n",
    "for i in range(0, len(linear_features_and_R)):\n",
    "    print(linear_features_and_R[i][0],\":\",linear_features_and_R[i][1])"
   ]
  },
  {
   "cell_type": "code",
   "execution_count": 344,
   "metadata": {
    "collapsed": false
   },
   "outputs": [],
   "source": [
    "final_new_file=pd.concat([final_file, new_file[\"stars\"]],axis=1)"
   ]
  },
  {
   "cell_type": "code",
   "execution_count": 345,
   "metadata": {
    "collapsed": false
   },
   "outputs": [
    {
     "data": {
      "text/plain": [
       "Index(['Noise', 'Kids', 'Wi-Fi', 'park', 'Take-out', 'Price', 'stars'], dtype='object')"
      ]
     },
     "execution_count": 345,
     "metadata": {},
     "output_type": "execute_result"
    }
   ],
   "source": [
    "final_new_file.columns"
   ]
  },
  {
   "cell_type": "code",
   "execution_count": 346,
   "metadata": {
    "collapsed": false
   },
   "outputs": [
    {
     "data": {
      "text/html": [
       "<div>\n",
       "<table border=\"1\" class=\"dataframe\">\n",
       "  <thead>\n",
       "    <tr style=\"text-align: right;\">\n",
       "      <th></th>\n",
       "      <th>Noise</th>\n",
       "      <th>Kids</th>\n",
       "      <th>Wi-Fi</th>\n",
       "      <th>park</th>\n",
       "      <th>Take-out</th>\n",
       "      <th>Price</th>\n",
       "      <th>stars</th>\n",
       "    </tr>\n",
       "  </thead>\n",
       "  <tbody>\n",
       "    <tr>\n",
       "      <th>Noise</th>\n",
       "      <td>1.000000</td>\n",
       "      <td>0.765354</td>\n",
       "      <td>0.052985</td>\n",
       "      <td>0.007578</td>\n",
       "      <td>-0.052597</td>\n",
       "      <td>0.057632</td>\n",
       "      <td>-0.144150</td>\n",
       "    </tr>\n",
       "    <tr>\n",
       "      <th>Kids</th>\n",
       "      <td>0.765354</td>\n",
       "      <td>1.000000</td>\n",
       "      <td>0.059883</td>\n",
       "      <td>0.121030</td>\n",
       "      <td>0.011953</td>\n",
       "      <td>0.052420</td>\n",
       "      <td>-0.056665</td>\n",
       "    </tr>\n",
       "    <tr>\n",
       "      <th>Wi-Fi</th>\n",
       "      <td>0.052985</td>\n",
       "      <td>0.059883</td>\n",
       "      <td>1.000000</td>\n",
       "      <td>0.062032</td>\n",
       "      <td>-0.008218</td>\n",
       "      <td>0.092396</td>\n",
       "      <td>0.029485</td>\n",
       "    </tr>\n",
       "    <tr>\n",
       "      <th>park</th>\n",
       "      <td>0.007578</td>\n",
       "      <td>0.121030</td>\n",
       "      <td>0.062032</td>\n",
       "      <td>1.000000</td>\n",
       "      <td>-0.006178</td>\n",
       "      <td>0.153497</td>\n",
       "      <td>0.188875</td>\n",
       "    </tr>\n",
       "    <tr>\n",
       "      <th>Take-out</th>\n",
       "      <td>-0.052597</td>\n",
       "      <td>0.011953</td>\n",
       "      <td>-0.008218</td>\n",
       "      <td>-0.006178</td>\n",
       "      <td>1.000000</td>\n",
       "      <td>-0.390985</td>\n",
       "      <td>-0.059078</td>\n",
       "    </tr>\n",
       "    <tr>\n",
       "      <th>Price</th>\n",
       "      <td>0.057632</td>\n",
       "      <td>0.052420</td>\n",
       "      <td>0.092396</td>\n",
       "      <td>0.153497</td>\n",
       "      <td>-0.390985</td>\n",
       "      <td>1.000000</td>\n",
       "      <td>0.080483</td>\n",
       "    </tr>\n",
       "    <tr>\n",
       "      <th>stars</th>\n",
       "      <td>-0.144150</td>\n",
       "      <td>-0.056665</td>\n",
       "      <td>0.029485</td>\n",
       "      <td>0.188875</td>\n",
       "      <td>-0.059078</td>\n",
       "      <td>0.080483</td>\n",
       "      <td>1.000000</td>\n",
       "    </tr>\n",
       "  </tbody>\n",
       "</table>\n",
       "</div>"
      ],
      "text/plain": [
       "             Noise      Kids     Wi-Fi      park  Take-out     Price     stars\n",
       "Noise     1.000000  0.765354  0.052985  0.007578 -0.052597  0.057632 -0.144150\n",
       "Kids      0.765354  1.000000  0.059883  0.121030  0.011953  0.052420 -0.056665\n",
       "Wi-Fi     0.052985  0.059883  1.000000  0.062032 -0.008218  0.092396  0.029485\n",
       "park      0.007578  0.121030  0.062032  1.000000 -0.006178  0.153497  0.188875\n",
       "Take-out -0.052597  0.011953 -0.008218 -0.006178  1.000000 -0.390985 -0.059078\n",
       "Price     0.057632  0.052420  0.092396  0.153497 -0.390985  1.000000  0.080483\n",
       "stars    -0.144150 -0.056665  0.029485  0.188875 -0.059078  0.080483  1.000000"
      ]
     },
     "execution_count": 346,
     "metadata": {},
     "output_type": "execute_result"
    }
   ],
   "source": [
    "final_new_file.corr(method=\"pearson\")"
   ]
  },
  {
   "cell_type": "markdown",
   "metadata": {},
   "source": [
    "## Mutiple linear regression"
   ]
  },
  {
   "cell_type": "code",
   "execution_count": 347,
   "metadata": {
    "collapsed": true
   },
   "outputs": [],
   "source": [
    "# We can use the linear model from sklearn package\n",
    "from sklearn import linear_model"
   ]
  },
  {
   "cell_type": "code",
   "execution_count": 348,
   "metadata": {
    "collapsed": false
   },
   "outputs": [
    {
     "name": "stdout",
     "output_type": "stream",
     "text": [
      "coefficients: \n",
      "[-0.24434186  0.14589935  0.02792024  0.2774254  -0.14099566  0.04104012]\n",
      "intercept: \n",
      "3.49014790631\n",
      "\n",
      "The fitted equation becomes:\n",
      "-0.2443419*x1 + 0.1458994*x2 + 0.0279202*x3 + 0.2774254*x4 + -0.1409957*x5 + 0.0410401*x6 + (3.49014790631)\n",
      "\n",
      "In which,\n",
      "x1:Noise\n",
      "x2:Kids\n",
      "x3:Wi-Fi\n",
      "x4:park\n",
      "x5:Take-out\n",
      "x6:Price\n"
     ]
    }
   ],
   "source": [
    "# Update X data frames (independent variables)\n",
    "X = final_file[linear_features]\n",
    "# y stays the same\n",
    "y = new_file[\"stars\"]\n",
    "\n",
    "# A new linear regression model\n",
    "regr = linear_model.LinearRegression()\n",
    "\n",
    "# Fit X and y\n",
    "regr.fit(X, y)\n",
    "\n",
    "# Print out key parameters:\n",
    "print (\"coefficients: \")\n",
    "print (regr.coef_)\n",
    "print (\"intercept: \")\n",
    "print (regr.intercept_)\n",
    "print ()\n",
    "\n",
    "print(\"The fitted equation becomes:\")\n",
    "for i in range(0,len(linear_features)):\n",
    "    print(round(regr.coef_[i],7),end='')\n",
    "    print('*',end='')\n",
    "    print('x',end='')\n",
    "    print(i+1,end='')\n",
    "    print(' ',end='')\n",
    "    print('+',end='')\n",
    "    print(' ',end='')\n",
    "print('(',end='')\n",
    "print(regr.intercept_,end='')\n",
    "print(')')\n",
    "\n",
    "print()\n",
    "print('In which,')\n",
    "for i in range(0,len(linear_features)):\n",
    "    print('x',end='')\n",
    "    print(i+1,end='')\n",
    "    print(':',end='')\n",
    "    print(linear_features[i])    "
   ]
  },
  {
   "cell_type": "markdown",
   "metadata": {},
   "source": []
  },
  {
   "cell_type": "markdown",
   "metadata": {},
   "source": [
    "## Non-linear features selection by Random forest for Logistic regression"
   ]
  },
  {
   "cell_type": "code",
   "execution_count": 349,
   "metadata": {
    "collapsed": true
   },
   "outputs": [],
   "source": [
    "from sklearn.ensemble import RandomForestClassifier"
   ]
  },
  {
   "cell_type": "code",
   "execution_count": 350,
   "metadata": {
    "collapsed": false
   },
   "outputs": [],
   "source": [
    "features=[\"Noise\",\"Wi-Fi\",\"Price\",\"Kids\",\"Take-out\",\"park\"]\n",
    "x=final_file[features]\n",
    "y=new_file[\"stars\"]"
   ]
  },
  {
   "cell_type": "code",
   "execution_count": 351,
   "metadata": {
    "collapsed": false
   },
   "outputs": [
    {
     "data": {
      "text/plain": [
       "4.0    4794\n",
       "3.5    4657\n",
       "3.0    2755\n",
       "4.5    1894\n",
       "2.5    1307\n",
       "2.0     504\n",
       "5.0     178\n",
       "1.5     166\n",
       "1.0      18\n",
       "Name: stars, dtype: int64"
      ]
     },
     "execution_count": 351,
     "metadata": {},
     "output_type": "execute_result"
    }
   ],
   "source": [
    "y.value_counts()"
   ]
  },
  {
   "cell_type": "code",
   "execution_count": 352,
   "metadata": {
    "collapsed": false
   },
   "outputs": [
    {
     "data": {
      "text/plain": [
       "False    9407\n",
       "True     6866\n",
       "Name: stars, dtype: int64"
      ]
     },
     "execution_count": 352,
     "metadata": {},
     "output_type": "execute_result"
    }
   ],
   "source": [
    "y=y>y.mean()\n",
    "y.value_counts()"
   ]
  },
  {
   "cell_type": "code",
   "execution_count": 355,
   "metadata": {
    "collapsed": false
   },
   "outputs": [
    {
     "data": {
      "text/plain": [
       "RandomForestClassifier(bootstrap=True, class_weight=None, criterion='gini',\n",
       "            max_depth=None, max_features=2, max_leaf_nodes=None,\n",
       "            min_impurity_split=1e-07, min_samples_leaf=1,\n",
       "            min_samples_split=2, min_weight_fraction_leaf=0.0,\n",
       "            n_estimators=1000, n_jobs=1, oob_score=True, random_state=None,\n",
       "            verbose=0, warm_start=False)"
      ]
     },
     "execution_count": 355,
     "metadata": {},
     "output_type": "execute_result"
    }
   ],
   "source": [
    "rf_model=RandomForestClassifier(n_estimators=1000, max_features=2, oob_score=True)\n",
    "rf_model=rf_model.fit(x,y)\n",
    "rf_model"
   ]
  },
  {
   "cell_type": "code",
   "execution_count": 356,
   "metadata": {
    "collapsed": false
   },
   "outputs": [
    {
     "data": {
      "text/plain": [
       "0.6011798684938241"
      ]
     },
     "execution_count": 356,
     "metadata": {},
     "output_type": "execute_result"
    }
   ],
   "source": [
    "rf_model.oob_score_"
   ]
  },
  {
   "cell_type": "code",
   "execution_count": 357,
   "metadata": {
    "collapsed": false
   },
   "outputs": [
    {
     "name": "stdout",
     "output_type": "stream",
     "text": [
      "Noise : 0.311738030194\n",
      "Wi-Fi : 0.146255569373\n",
      "Price : 0.2514452254\n",
      "Kids : 0.0477860310017\n",
      "Take-out : 0.0778992404227\n",
      "park : 0.164875903609\n"
     ]
    }
   ],
   "source": [
    "for features,importance in zip(features, rf_model.feature_importances_):\n",
    "    print (features, \":\", importance)"
   ]
  },
  {
   "cell_type": "code",
   "execution_count": 358,
   "metadata": {
    "collapsed": false
   },
   "outputs": [
    {
     "data": {
      "text/plain": [
       "Index(['Noise', 'Kids', 'Wi-Fi', 'park', 'Take-out', 'Price'], dtype='object')"
      ]
     },
     "execution_count": 358,
     "metadata": {},
     "output_type": "execute_result"
    }
   ],
   "source": [
    "final_file.columns"
   ]
  },
  {
   "cell_type": "code",
   "execution_count": 359,
   "metadata": {
    "collapsed": false
   },
   "outputs": [
    {
     "name": "stdout",
     "output_type": "stream",
     "text": [
      "<class 'pandas.core.frame.DataFrame'>\n",
      "<class 'pandas.core.series.Series'>\n"
     ]
    }
   ],
   "source": [
    "final_file[\"intercept\"]=1\n",
    "logit_features=[\"Noise\",\"Wi-Fi\",\"Price\",\"park\",\"intercept\"]\n",
    "x_logit=final_file[logit_features]\n",
    "print (type(x_logit))\n",
    "print (type(y))\n"
   ]
  },
  {
   "cell_type": "code",
   "execution_count": 360,
   "metadata": {
    "collapsed": false
   },
   "outputs": [
    {
     "name": "stdout",
     "output_type": "stream",
     "text": [
      "<class 'pandas.core.frame.DataFrame'>\n",
      "RangeIndex: 16273 entries, 0 to 16272\n",
      "Data columns (total 5 columns):\n",
      "Noise        16273 non-null int64\n",
      "Wi-Fi        16273 non-null int64\n",
      "Price        16273 non-null float64\n",
      "park         16273 non-null int64\n",
      "intercept    16273 non-null int64\n",
      "dtypes: float64(1), int64(4)\n",
      "memory usage: 635.7 KB\n"
     ]
    }
   ],
   "source": [
    "x_logit.info()"
   ]
  },
  {
   "cell_type": "code",
   "execution_count": 361,
   "metadata": {
    "collapsed": false
   },
   "outputs": [],
   "source": [
    "import statsmodels.api as sm\n",
    "logit=sm.Logit(y,x_logit)"
   ]
  },
  {
   "cell_type": "code",
   "execution_count": 362,
   "metadata": {
    "collapsed": false
   },
   "outputs": [
    {
     "name": "stdout",
     "output_type": "stream",
     "text": [
      "Optimization terminated successfully.\n",
      "         Current function value: 0.667377\n",
      "         Iterations 5\n",
      "                           Logit Regression Results                           \n",
      "==============================================================================\n",
      "Dep. Variable:                  stars   No. Observations:                16273\n",
      "Model:                          Logit   Df Residuals:                    16268\n",
      "Method:                           MLE   Df Model:                            4\n",
      "Date:                Wed, 15 Mar 2017   Pseudo R-squ.:                 0.01987\n",
      "Time:                        18:07:01   Log-Likelihood:                -10860.\n",
      "converged:                       True   LL-Null:                       -11080.\n",
      "                                        LLR p-value:                 5.391e-94\n",
      "==============================================================================\n",
      "                 coef    std err          z      P>|z|      [95.0% Conf. Int.]\n",
      "------------------------------------------------------------------------------\n",
      "Noise         -0.4591      0.029    -16.103      0.000        -0.515    -0.403\n",
      "Wi-Fi          0.0881      0.032      2.773      0.006         0.026     0.150\n",
      "Price          0.1115      0.026      4.304      0.000         0.061     0.162\n",
      "park           0.4644      0.040     11.544      0.000         0.386     0.543\n",
      "intercept     -0.4835      0.056     -8.593      0.000        -0.594    -0.373\n",
      "==============================================================================\n"
     ]
    }
   ],
   "source": [
    "# displaying the result of logistic regression\n",
    "result=logit.fit()\n",
    "print(result.summary())"
   ]
  },
  {
   "cell_type": "code",
   "execution_count": 363,
   "metadata": {
    "collapsed": false
   },
   "outputs": [
    {
     "name": "stdout",
     "output_type": "stream",
     "text": [
      "Noise       -0.459114\n",
      "Wi-Fi        0.088080\n",
      "Price        0.111489\n",
      "park         0.464414\n",
      "intercept   -0.483475\n",
      "dtype: float64\n"
     ]
    }
   ],
   "source": [
    "print (result.params)"
   ]
  },
  {
   "cell_type": "code",
   "execution_count": 364,
   "metadata": {
    "collapsed": false
   },
   "outputs": [
    {
     "name": "stdout",
     "output_type": "stream",
     "text": [
      "Noise        0.631843\n",
      "Wi-Fi        1.092075\n",
      "Price        1.117942\n",
      "park         1.591081\n",
      "intercept    0.616637\n",
      "dtype: float64\n"
     ]
    }
   ],
   "source": [
    "# odds ratio\n",
    "print (np.exp(result.params))\n",
    "\n",
    "# odds ratio is between 0 and 1: this feature has a negative correlation with \"star rating\"\n",
    "# odds ratio is over 1: this feature has a positive correlation with \"star rating\""
   ]
  }
 ],
 "metadata": {
  "anaconda-cloud": {},
  "kernelspec": {
   "display_name": "Python [conda root]",
   "language": "python",
   "name": "conda-root-py"
  },
  "language_info": {
   "codemirror_mode": {
    "name": "ipython",
    "version": 3
   },
   "file_extension": ".py",
   "mimetype": "text/x-python",
   "name": "python",
   "nbconvert_exporter": "python",
   "pygments_lexer": "ipython3",
   "version": "3.5.2"
  }
 },
 "nbformat": 4,
 "nbformat_minor": 1
}
